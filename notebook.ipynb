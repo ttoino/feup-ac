{
 "cells": [
  {
   "cell_type": "code",
   "execution_count": null,
   "metadata": {},
   "outputs": [],
   "source": [
    "import pandas as pd\n",
    "\n",
    "# Load the relevant data\n",
    "awards_players_df = pd.read_csv('data/awards_players.csv')\n",
    "coaches_df = pd.read_csv('data/coaches.csv')\n",
    "players_teams_df = pd.read_csv('data/players_teams.csv')\n",
    "players_df = pd.read_csv('data/players.csv')\n",
    "series_post_df = pd.read_csv('data/series_post.csv')\n",
    "teams_post_df = pd.read_csv('data/teams_post.csv')\n",
    "teams_df = pd.read_csv('data/teams.csv')\n"
   ]
  },
  {
   "cell_type": "code",
   "execution_count": null,
   "metadata": {},
   "outputs": [],
   "source": [
    "from sklearn import model_selection\n",
    "\n",
    "# preprocess data so that we train on past seasons and predict future seasons\n",
    "train = teams_df[teams_df['yearID'] <= 8]\n",
    "test = teams_df[teams_df['yearID'] >= 9]\n",
    "teams_df.sort_values('yearID', axis=1, inplace=True)\n",
    "\n",
    "# split test and train data\n",
    "X_train, X_test, y_train, y_test = model_selection.train_test_split(teams_df, train_size=0.7, shuffle=False)\n"
   ]
  },
  {
   "cell_type": "code",
   "execution_count": null,
   "metadata": {},
   "outputs": [],
   "source": [
    "# taken from https://stackoverflow.com/questions/33144813/quickly-drop-dataframe-columns-with-only-one-distinct-value\n",
    "def drop_cols_all_equal(df: pd.DataFrame):\n",
    "    for col in df.columns:\n",
    "        if len(df[col].unique()) == 1:\n",
    "            df.drop(col, inplace=True, axis=1)\n",
    "\n",
    "drop_cols_all_equal(players_df)\n"
   ]
  }
 ],
 "metadata": {
  "kernelspec": {
   "display_name": "Python 3",
   "language": "python",
   "name": "python3"
  },
  "language_info": {
   "codemirror_mode": {
    "name": "ipython",
    "version": 3
   },
   "file_extension": ".py",
   "mimetype": "text/x-python",
   "name": "python",
   "nbconvert_exporter": "python",
   "pygments_lexer": "ipython3",
   "version": "3.11.5"
  },
  "orig_nbformat": 4
 },
 "nbformat": 4,
 "nbformat_minor": 2
}
