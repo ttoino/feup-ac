{
 "cells": [
  {
   "cell_type": "code",
   "execution_count": null,
   "metadata": {},
   "outputs": [],
   "source": [
    "import pandas as pd\n",
    "from sklearn.model_selection import train_test_split\n",
    "from sklearn.tree import DecisionTreeClassifier\n",
    "from sklearn.metrics import accuracy_score, classification_report, confusion_matrix\n",
    "import numpy as np"
   ]
  },
  {
   "cell_type": "code",
   "execution_count": null,
   "metadata": {},
   "outputs": [],
   "source": [
    "# Load dataset\n",
    "teams_df = pd.read_csv(\"../data/teams.csv\")\n",
    "teams_df.head()"
   ]
  },
  {
   "cell_type": "code",
   "execution_count": null,
   "metadata": {},
   "outputs": [],
   "source": [
    "# Drop unnecessary columns\n",
    "teams_df = teams_df.drop([\"rank\", \"seeded\", \"lgID\", \"tmID\", \"franchID\", \"confID\", \"divID\", \"name\", \"arena\", \"firstRound\", \"semis\", \"finals\"], axis=1)\n",
    "\n",
    "# Convert \"playoff\" column to binary (Y: 1, N: 0)\n",
    "teams_df[\"playoff\"] = teams_df[\"playoff\"].map({\"Y\": 1, \"N\": 0})\n",
    "\n",
    "teams_df.head()"
   ]
  },
  {
   "cell_type": "code",
   "execution_count": null,
   "metadata": {},
   "outputs": [],
   "source": [
    "# Split dataset in features and target variable\n",
    "\n",
    "# Create and train model\n",
    "model = DecisionTreeClassifier(random_state=42)\n",
    "\n",
    "min_year = 7\n",
    "max_year = teams_df['year'].max()\n",
    "\n",
    "print(min_year, max_year)\n",
    "\n",
    "for i in range(min_year, max_year + 1):\n",
    "    teams_df_train = teams_df[teams_df['year'] < i]\n",
    "    teams_df_test = teams_df[teams_df['year'] == i]\n",
    "\n",
    "    X_train = teams_df_train.drop(\"playoff\", axis=1) # Features\n",
    "    y_train = teams_df_train[\"playoff\"] # Target variable\n",
    "\n",
    "    X_test = teams_df_test.drop(\"playoff\", axis=1) # Features\n",
    "    y_test = teams_df_test[\"playoff\"] # Target variable\n",
    "\n",
    "    print(f\"Train/Test size for year={i}:\", X_train.shape, X_test.shape, y_train.shape, y_test.shape)\n",
    "\n",
    "    model.fit(X_train, y_train)\n",
    "\n",
    "    #Predict the response for test dataset\n",
    "    y_pred = model.predict(X_test)\n",
    "\n",
    "    print(f\"\\nyear={i}, Accuracy:\", accuracy_score(y_test, y_pred))\n",
    "    print(f\"\\nyear={i}, Classification Report:\\n\", classification_report(y_test, y_pred))\n",
    "    print(f\"\\nyear={i}, Confusion Matrix:\\n\", confusion_matrix(y_test, y_pred))"
   ]
  },
  {
   "cell_type": "code",
   "execution_count": null,
   "metadata": {},
   "outputs": [],
   "source": [
    "from sklearn.tree import plot_tree\n",
    "import matplotlib.pyplot as plt\n",
    "\n",
    "plt.figure(figsize=(10, 7))\n",
    "plot_tree(model, filled=True, feature_names=X_train.columns, class_names=True, rounded=True)\n",
    "plt.show()\n"
   ]
  }
 ],
 "metadata": {
  "kernelspec": {
   "display_name": "Python 3",
   "language": "python",
   "name": "python3"
  },
  "language_info": {
   "codemirror_mode": {
    "name": "ipython",
    "version": 3
   },
   "file_extension": ".py",
   "mimetype": "text/x-python",
   "name": "python",
   "nbconvert_exporter": "python",
   "pygments_lexer": "ipython3",
   "version": "3.11.5"
  },
  "orig_nbformat": 4
 },
 "nbformat": 4,
 "nbformat_minor": 2
}
