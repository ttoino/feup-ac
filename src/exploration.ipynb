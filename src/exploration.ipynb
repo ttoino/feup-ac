{
 "cells": [
  {
   "cell_type": "code",
   "execution_count": null,
   "metadata": {},
   "outputs": [],
   "source": [
    "import pandas as pd\n",
    "import matplotlib.pyplot as plt\n",
    "import seaborn as sns"
   ]
  },
  {
   "cell_type": "code",
   "execution_count": null,
   "metadata": {},
   "outputs": [],
   "source": [
    "# Load data\n",
    "awards_players_df = pd.read_csv('../data/awards_players.csv')\n",
    "coaches_df = pd.read_csv('../data/coaches.csv')\n",
    "players_teams_df = pd.read_csv('../data/players_teams.csv')\n",
    "players_df = pd.read_csv('../data/players.csv')\n",
    "series_post_df = pd.read_csv('../data/series_post.csv')\n",
    "teams_post_df = pd.read_csv('../data/teams_post.csv')\n",
    "teams_df = pd.read_csv('../data/teams.csv')"
   ]
  },
  {
   "cell_type": "markdown",
   "metadata": {},
   "source": [
    "## Awards players dataset exploration"
   ]
  },
  {
   "cell_type": "markdown",
   "metadata": {},
   "source": [
    "### Number of awards per player "
   ]
  },
  {
   "cell_type": "code",
   "execution_count": null,
   "metadata": {},
   "outputs": [],
   "source": [
    "# unique awards\n",
    "awards_players_df['award'].nunique() # 12 types of awards\n",
    "\n",
    "# number of awards for each player\n",
    "player_awards_count = awards_players_df.groupby('playerID')['award'].count().reset_index()\n",
    "\n",
    "# Sort players based on the number of awards in descending order\n",
    "player_awards_count = player_awards_count.sort_values(by='award', ascending=False)\n",
    "\n",
    "# Create the bar plot\n",
    "plt.figure(figsize=(18, 12))\n",
    "sns.barplot(x='playerID', y='award', data=player_awards_count)\n",
    "plt.title('Number of awards per player')\n",
    "plt.xlabel('Player ID')\n",
    "plt.ylabel('Awards count')\n",
    "plt.xticks(rotation=45, ha='right')  # Adjust rotation for playerID labels\n",
    "plt.show()"
   ]
  },
  {
   "cell_type": "markdown",
   "metadata": {},
   "source": [
    "## Coaches dataset exploration"
   ]
  },
  {
   "cell_type": "markdown",
   "metadata": {},
   "source": [
    "### Wins and losses vs post season wins and losses"
   ]
  },
  {
   "cell_type": "code",
   "execution_count": null,
   "metadata": {},
   "outputs": [],
   "source": [
    "# Bar plot of post-season wins and losses\n",
    "sns.barplot(x='post_wins', y='post_losses', data=coaches_df)\n",
    "plt.title('Post-Season Performance')\n",
    "plt.xlabel('Post-Season Wins')\n",
    "plt.ylabel('Post-Season Losses')\n",
    "plt.show()\n",
    "\n",
    "sns.histplot(coaches_df['won'],  bins='auto')\n",
    "plt.title('Wins Distribution')\n",
    "plt.show()\n",
    "\n",
    "sns.histplot(coaches_df['lost'], bins='auto')\n",
    "plt.title('Losses Distribution')\n",
    "plt.show()\n",
    "\n",
    "sns.histplot(coaches_df['post_wins'],  bins='auto')\n",
    "plt.title('Wins Distribution')\n",
    "plt.show()\n",
    "\n",
    "sns.histplot(coaches_df['post_losses'], bins='auto')\n",
    "plt.title('Losses Distribution')\n",
    "plt.show()"
   ]
  },
  {
   "cell_type": "markdown",
   "metadata": {},
   "source": [
    "### Barplot with wins and losses for each coach"
   ]
  },
  {
   "cell_type": "code",
   "execution_count": null,
   "metadata": {},
   "outputs": [],
   "source": [
    "# Create a new DataFrame with wins and losses for each coach\n",
    "coach_wins_losses = coaches_df.groupby('coachID').sum().reset_index()\n",
    "coach_wins_losses = coach_wins_losses[['coachID', 'won', 'lost']]\n",
    "coach_wins_losses['ratio'] = coach_wins_losses['won'] / (coach_wins_losses['won'] + coach_wins_losses['lost'])\n",
    "\n",
    "# Melt the DataFrame for Seaborn's barplot\n",
    "coach_wins_losses_melted = coach_wins_losses.melt(id_vars='coachID', value_vars=['won', 'lost'], var_name='Outcome', value_name='Count')\n",
    "\n",
    "# Create the histogram for the absolute values\n",
    "plt.figure(figsize=(18, 12))\n",
    "sns.barplot(x='coachID', y='Count', hue='Outcome', data=coach_wins_losses_melted, palette='muted')\n",
    "plt.title('Wins and Losses for Each Coach')\n",
    "plt.xlabel('Coach ID')\n",
    "plt.ylabel('Count')\n",
    "plt.xticks(rotation=45, ha='right')  \n",
    "plt.show()\n"
   ]
  },
  {
   "cell_type": "markdown",
   "metadata": {},
   "source": [
    "### Barplot with ratio of wins to losses for each coach"
   ]
  },
  {
   "cell_type": "code",
   "execution_count": null,
   "metadata": {},
   "outputs": [],
   "source": [
    "# Create the histogram for the ratio\n",
    "coach_wins_losses[['coachID', 'ratio']].sort_values('ratio', ascending=False).plot(x='coachID', y='ratio', kind='bar', figsize=(18, 12), title=\"Win/Loss ratio per coach\")"
   ]
  },
  {
   "cell_type": "markdown",
   "metadata": {},
   "source": [
    "## Players dataset exploration"
   ]
  },
  {
   "cell_type": "markdown",
   "metadata": {},
   "source": [
    "### College exploration"
   ]
  },
  {
   "cell_type": "code",
   "execution_count": null,
   "metadata": {},
   "outputs": [],
   "source": [
    "# Number of unique college values\n",
    "num_colleges = players_df['college'].nunique()\n",
    "print(\"Number of colleges:\", num_colleges) # 160\n",
    "\n",
    "# Count the number of players for each college\n",
    "players_per_college = players_df['college'].value_counts().reset_index()\n",
    "players_per_college.columns = ['College', 'Player Count']\n",
    "\n",
    "# Select the top 20 colleges\n",
    "top_20_colleges = players_per_college.head(20)\n",
    "\n",
    "# Create the bar plot\n",
    "plt.figure(figsize=(12, 6))\n",
    "sns.barplot(x='Player Count', y='College', data=top_20_colleges)\n",
    "plt.title('Top 20 Colleges with Most Number of Players')\n",
    "plt.xlabel('Number of Players')\n",
    "plt.ylabel('College')\n",
    "plt.show()\n",
    "\n"
   ]
  },
  {
   "cell_type": "markdown",
   "metadata": {},
   "source": [
    "### Mean values for player attributes"
   ]
  },
  {
   "cell_type": "code",
   "execution_count": null,
   "metadata": {},
   "outputs": [],
   "source": [
    "# Drop rows with 0 values \n",
    "players_df.drop(players_df[players_df['height'] == 0].index, inplace = True)\n",
    "players_df.drop(players_df[players_df['weight'] == 0].index, inplace = True)\n",
    "\n",
    "# Average height\n",
    "average_height = players_df['height'].mean()\n",
    "print(\"Average height:\", average_height) # 71.9 inches\n",
    "\n",
    "average_weight = players_df['weight'].mean()\n",
    "print(\"Average weight:\", average_weight) # 167.77 pounds"
   ]
  },
  {
   "cell_type": "markdown",
   "metadata": {},
   "source": [
    "### Player positions exploration"
   ]
  },
  {
   "cell_type": "code",
   "execution_count": null,
   "metadata": {},
   "outputs": [],
   "source": [
    "# Plot for number of players in each position\n",
    "positions = players_df['pos'].unique()\n",
    "num_positions = players_df['pos'].nunique()\n",
    "\n",
    "print(\"Player positions:\", positions) # center, forward, forward-center, guard, forward-guard, guard-forward, center-forward\n",
    "print(\"Number of unique positions:\", num_positions) \n",
    "\n",
    "# Count the number of players for each position\n",
    "players_per_position = players_df['pos'].value_counts().reset_index()\n",
    "players_per_position.columns = ['Position', 'Player Count']\n",
    "\n",
    "display(players_per_position)\n",
    "\n",
    "# Sort positions based on player count\n",
    "players_per_position = players_per_position.sort_values(by='Player Count', ascending=False)\n",
    "\n",
    "# Create the bar plot\n",
    "plt.figure(figsize=(10, 6))\n",
    "sns.barplot(x='Position', y='Player Count', data=players_per_position, hue='Position')\n",
    "plt.title('Number of Players in Each Position')\n",
    "plt.xlabel('Number of Players')\n",
    "plt.ylabel('Position')\n",
    "plt.show()"
   ]
  },
  {
   "cell_type": "markdown",
   "metadata": {},
   "source": [
    "### Teams post dataset exploration"
   ]
  },
  {
   "cell_type": "code",
   "execution_count": null,
   "metadata": {},
   "outputs": [],
   "source": [
    "# Create a new DataFrame with wins and losses for each team\n",
    "team_wins_losses = teams_post_df.groupby('tmID').sum().reset_index()\n",
    "team_wins_losses = team_wins_losses[['tmID', 'W', 'L']]\n",
    "team_wins_losses['ratio'] = team_wins_losses['W'] / (team_wins_losses['W'] + team_wins_losses['L'])\n",
    "\n",
    "# Melt the DataFrame for Seaborn's barplot\n",
    "melted_team_data = team_wins_losses.melt(id_vars='tmID', value_vars=['W', 'L'], var_name='Outcome', value_name='Count')\n",
    "\n",
    "# Create the histogram for the absolute values\n",
    "plt.figure(figsize=(18, 12))\n",
    "sns.barplot(x='tmID', y='Count', hue='Outcome', data=melted_team_data)\n",
    "plt.title('Wins and Losses for Each Team')\n",
    "plt.xlabel('Team ID')\n",
    "plt.ylabel('Count')\n",
    "plt.xticks(rotation=45, ha='right')  \n",
    "plt.show()\n",
    "\n",
    "# Ratio plot\n",
    "team_wins_losses[['tmID', 'ratio']].sort_values('ratio', ascending=False).plot(x='tmID', y='ratio', kind='bar', figsize=(18, 12), title=\"Win/Loss ratio per team\")\n"
   ]
  },
  {
   "cell_type": "markdown",
   "metadata": {},
   "source": [
    "### Teams dataset exploration"
   ]
  },
  {
   "cell_type": "code",
   "execution_count": null,
   "metadata": {},
   "outputs": [],
   "source": [
    "# Drop columns with only 0 values\n",
    "zero_columns = teams_df.columns[(teams_df == 0).all()]\n",
    "teams_df = teams_df.drop(columns=zero_columns)\n",
    "\n",
    "# Extract only numeric columns\n",
    "numeric_columns = teams_df.select_dtypes(include=['number'])\n",
    "\n",
    "# Calculate the correlation matrix\n",
    "correlation_matrix = numeric_columns.corr()\n",
    "\n",
    "# Create a heatmap\n",
    "plt.figure(figsize=(72, 60))\n",
    "sns.heatmap(correlation_matrix, annot=True, cmap='coolwarm', linewidths=1)\n",
    "plt.title('Correlation Heatmap for Merged DataFrame')\n",
    "plt.show()"
   ]
  },
  {
   "cell_type": "markdown",
   "metadata": {},
   "source": [
    "## Data exploration for merged dataset"
   ]
  },
  {
   "cell_type": "code",
   "execution_count": null,
   "metadata": {},
   "outputs": [],
   "source": [
    "main_df = pd.read_csv(\"../data/clean/main_df.csv\")"
   ]
  },
  {
   "cell_type": "code",
   "execution_count": null,
   "metadata": {},
   "outputs": [],
   "source": [
    "# Extract only numeric columns\n",
    "numeric_columns = main_df.select_dtypes(include=['number'])\n",
    "\n",
    "# Calculate the correlation matrix\n",
    "correlation_matrix = numeric_columns.corr()\n",
    "\n",
    "# Create a heatmap\n",
    "plt.figure(figsize=(72, 60))\n",
    "sns.heatmap(correlation_matrix, annot=True, cmap='coolwarm', linewidths=1)\n",
    "plt.title('Correlation Heatmap for Merged DataFrame')\n",
    "plt.show()\n",
    "\n",
    "# Based on the heatmap we can evaluate which columns aren't that relevant to keep in the main dataset\n",
    "# We can see that a player's height and weight don't have much correlation between the rest of the columns\n",
    "# Player's stint also does not have correlation"
   ]
  }
 ],
 "metadata": {
  "kernelspec": {
   "display_name": "Python 3",
   "language": "python",
   "name": "python3"
  },
  "language_info": {
   "codemirror_mode": {
    "name": "ipython",
    "version": 3
   },
   "file_extension": ".py",
   "mimetype": "text/x-python",
   "name": "python",
   "nbconvert_exporter": "python",
   "pygments_lexer": "ipython3",
   "version": "3.11.5"
  },
  "orig_nbformat": 4
 },
 "nbformat": 4,
 "nbformat_minor": 2
}
