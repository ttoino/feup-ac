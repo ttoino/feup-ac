{
 "cells": [
  {
   "cell_type": "code",
   "execution_count": null,
   "metadata": {},
   "outputs": [],
   "source": [
    "import pandas as pd\n",
    "\n",
    "from sklearn.linear_model import LogisticRegression\n",
    "from sklearn.svm import SVC\n",
    "from sklearn.ensemble import RandomForestClassifier\n",
    "from sklearn.tree import DecisionTreeClassifier\n",
    "from sklearn.neighbors import KNeighborsClassifier\n",
    "\n",
    "from sklearn.metrics import accuracy_score, classification_report, confusion_matrix, roc_auc_score"
   ]
  },
  {
   "cell_type": "markdown",
   "metadata": {},
   "source": [
    "### Load data"
   ]
  },
  {
   "cell_type": "code",
   "execution_count": null,
   "metadata": {},
   "outputs": [],
   "source": [
    "df = pd.read_csv(\"../data/teams.csv\")"
   ]
  },
  {
   "cell_type": "code",
   "execution_count": null,
   "metadata": {},
   "outputs": [],
   "source": [
    "# Drop unnecessary/unfit columns\n",
    "teams_df = df.drop([\"rank\", \"seeded\", \"lgID\", \"tmID\", \"franchID\", \"confID\", \"divID\", \"name\", \"arena\", \"firstRound\", \"semis\", \"finals\"], axis=1)\n",
    "\n",
    "# Convert \"playoff\" column to binary (Y: 1, N: 0)\n",
    "teams_df[\"playoff\"] = teams_df[\"playoff\"].map({\"Y\": 1, \"N\": 0})"
   ]
  },
  {
   "cell_type": "markdown",
   "metadata": {},
   "source": [
    "### Training and evaluation function"
   ]
  },
  {
   "cell_type": "code",
   "execution_count": null,
   "metadata": {},
   "outputs": [],
   "source": [
    "def classification(model, teams_df, min_year, max_year):\n",
    "    for i in range(min_year, max_year + 1):\n",
    "        teams_df_train = teams_df[teams_df['year'] < i]\n",
    "        teams_df_test = teams_df[teams_df['year'] == i]\n",
    "\n",
    "        X_train = teams_df_train.drop(\"playoff\", axis=1)  # Features\n",
    "        y_train = teams_df_train[\"playoff\"]  # Target variable\n",
    "\n",
    "        X_test = teams_df_test.drop(\"playoff\", axis=1)  # Features\n",
    "        y_test = teams_df_test[\"playoff\"]  # Target variable\n",
    "\n",
    "        print(f\"\\nTrain/Test size for year={i}:\", X_train.shape, X_test.shape, y_train.shape, y_test.shape)\n",
    "\n",
    "        model.fit(X_train, y_train)\n",
    "\n",
    "        # Predict the response for the test dataset\n",
    "        y_pred = model.predict(X_test)\n",
    "\n",
    "        print(f\"\\nyear = {i}, Accuracy: \", accuracy_score(y_test, y_pred))\n",
    "        print(f\"\\nyear = {i}, Classification Report:\\n\", classification_report(y_test, y_pred))\n",
    "        print(f\"\\nyear = {i}, Confusion Matrix:\\n\", confusion_matrix(y_test, y_pred))\n",
    "        print(f\"\\nyear = {i}, AUC: \", roc_auc_score(y_test, y_pred))\n",
    "\n",
    "min_year = 2\n",
    "max_year = teams_df['year'].max()"
   ]
  },
  {
   "cell_type": "markdown",
   "metadata": {},
   "source": [
    "### Decision Tree"
   ]
  },
  {
   "cell_type": "code",
   "execution_count": null,
   "metadata": {},
   "outputs": [],
   "source": [
    "model = DecisionTreeClassifier(random_state=42)\n",
    "classification(model, teams_df, min_year, max_year)"
   ]
  },
  {
   "cell_type": "markdown",
   "metadata": {},
   "source": [
    "### SVC"
   ]
  },
  {
   "cell_type": "code",
   "execution_count": null,
   "metadata": {},
   "outputs": [],
   "source": [
    "model = SVC(random_state=42)\n",
    "classification(model, teams_df, min_year, max_year)"
   ]
  },
  {
   "cell_type": "markdown",
   "metadata": {},
   "source": [
    "### Logistic Regression"
   ]
  },
  {
   "cell_type": "code",
   "execution_count": null,
   "metadata": {},
   "outputs": [],
   "source": [
    "model = LogisticRegression(random_state=42, max_iter=100000, solver='saga')\n",
    "classification(model, teams_df, min_year, max_year)"
   ]
  },
  {
   "cell_type": "markdown",
   "metadata": {},
   "source": [
    "### Random Forest"
   ]
  },
  {
   "cell_type": "code",
   "execution_count": null,
   "metadata": {},
   "outputs": [],
   "source": [
    "model = RandomForestClassifier(random_state=42)\n",
    "classification(model, teams_df, min_year, max_year)"
   ]
  },
  {
   "cell_type": "markdown",
   "metadata": {},
   "source": [
    "### K Neighbors"
   ]
  },
  {
   "cell_type": "code",
   "execution_count": null,
   "metadata": {},
   "outputs": [],
   "source": [
    "model = KNeighborsClassifier()\n",
    "classification(model, teams_df, min_year, max_year)"
   ]
  }
 ],
 "metadata": {
  "kernelspec": {
   "display_name": "Python 3",
   "language": "python",
   "name": "python3"
  },
  "language_info": {
   "codemirror_mode": {
    "name": "ipython",
    "version": 3
   },
   "file_extension": ".py",
   "mimetype": "text/x-python",
   "name": "python",
   "nbconvert_exporter": "python",
   "pygments_lexer": "ipython3",
   "version": "3.11.5"
  }
 },
 "nbformat": 4,
 "nbformat_minor": 2
}
