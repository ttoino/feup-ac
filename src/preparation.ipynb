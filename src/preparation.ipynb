{
 "cells": [
  {
   "cell_type": "code",
   "execution_count": 1,
   "metadata": {},
   "outputs": [],
   "source": [
    "import pandas as pd"
   ]
  },
  {
   "cell_type": "markdown",
   "metadata": {},
   "source": [
    "# Load data"
   ]
  },
  {
   "cell_type": "code",
   "execution_count": 2,
   "metadata": {},
   "outputs": [],
   "source": [
    "awards_players_df = pd.read_csv('../data/awards_players.csv'); awards_players_df.Name = \"awards_players\"\n",
    "coaches_df = pd.read_csv('../data/coaches.csv'); coaches_df.Name = \"coaches\"\n",
    "players_teams_df = pd.read_csv('../data/players_teams.csv'); players_teams_df.Name = \"players_teams\"\n",
    "players_df = pd.read_csv('../data/players.csv'); players_df.Name = \"players\"\n",
    "series_post_df = pd.read_csv('../data/series_post.csv'); series_post_df.Name = \"series_post\"\n",
    "teams_post_df = pd.read_csv('../data/teams_post.csv'); teams_post_df.Name = \"teams_post\"\n",
    "teams_df = pd.read_csv('../data/teams.csv'); teams_df.Name = \"teams\"\n",
    "\n",
    "season11_coaches_df = pd.read_csv('../data/season11/coaches.csv'); season11_coaches_df.Name = \"season11_coaches\"\n",
    "season11_players_teams_df = pd.read_csv('../data/season11/players_teams.csv'); season11_players_teams_df.Name = \"season11_players_teams\"\n",
    "season11_teams_df = pd.read_csv('../data/season11/teams.csv'); season11_teams_df.Name = \"season11_teams\"\n",
    "\n",
    "dfs = [awards_players_df, coaches_df, players_teams_df, players_df, series_post_df, teams_post_df, teams_df, season11_coaches_df, season11_players_teams_df, season11_teams_df]"
   ]
  },
  {
   "cell_type": "markdown",
   "metadata": {},
   "source": [
    "# Clean data"
   ]
  },
  {
   "cell_type": "markdown",
   "metadata": {},
   "source": [
    "### Drop noisy data"
   ]
  },
  {
   "cell_type": "code",
   "execution_count": 3,
   "metadata": {},
   "outputs": [],
   "source": [
    "players_df.drop(players_df[players_df['height'] <= 0].index, inplace = True)"
   ]
  },
  {
   "cell_type": "markdown",
   "metadata": {},
   "source": [
    "### Remove duplicates\n"
   ]
  },
  {
   "cell_type": "code",
   "execution_count": 4,
   "metadata": {},
   "outputs": [
    {
     "data": {
      "text/plain": [
       "'Dropping dupplicates from dataframe awards_players...'"
      ]
     },
     "metadata": {},
     "output_type": "display_data"
    },
    {
     "data": {
      "text/plain": [
       "'Dropping dupplicates from dataframe coaches...'"
      ]
     },
     "metadata": {},
     "output_type": "display_data"
    },
    {
     "data": {
      "text/plain": [
       "'Dropping dupplicates from dataframe players_teams...'"
      ]
     },
     "metadata": {},
     "output_type": "display_data"
    },
    {
     "data": {
      "text/plain": [
       "'Dropping dupplicates from dataframe players...'"
      ]
     },
     "metadata": {},
     "output_type": "display_data"
    },
    {
     "data": {
      "text/plain": [
       "'Dropping dupplicates from dataframe series_post...'"
      ]
     },
     "metadata": {},
     "output_type": "display_data"
    },
    {
     "data": {
      "text/plain": [
       "'Dropping dupplicates from dataframe teams_post...'"
      ]
     },
     "metadata": {},
     "output_type": "display_data"
    },
    {
     "data": {
      "text/plain": [
       "'Dropping dupplicates from dataframe teams...'"
      ]
     },
     "metadata": {},
     "output_type": "display_data"
    },
    {
     "data": {
      "text/plain": [
       "'Dropping dupplicates from dataframe season11_coaches...'"
      ]
     },
     "metadata": {},
     "output_type": "display_data"
    },
    {
     "data": {
      "text/plain": [
       "'Dropping dupplicates from dataframe season11_players_teams...'"
      ]
     },
     "metadata": {},
     "output_type": "display_data"
    },
    {
     "data": {
      "text/plain": [
       "'Dropping dupplicates from dataframe season11_teams...'"
      ]
     },
     "metadata": {},
     "output_type": "display_data"
    }
   ],
   "source": [
    "for df in dfs:\n",
    "    df.drop_duplicates(inplace=True)\n",
    "    display(f\"Dropping dupplicates from dataframe {df.Name}...\")"
   ]
  },
  {
   "cell_type": "markdown",
   "metadata": {},
   "source": [
    "### Drop unnecessary columns"
   ]
  },
  {
   "cell_type": "code",
   "execution_count": 5,
   "metadata": {},
   "outputs": [],
   "source": [
    "players_df.drop(['birthDate', 'deathDate', 'college', 'collegeOther'], axis=1, inplace=True)\n",
    "teams_df.drop([\"franchID\", \"firstRound\", \"semis\", \"finals\", \"attend\", \"name\", \"arena\"], axis=1, inplace=True);\n",
    "season11_teams_df.drop([\"lgID\", \"franchID\", \"name\", \"arena\"], axis=1, inplace=True)\n",
    "teams_post_df.drop([], axis=1, inplace=True)\n",
    "series_post_df.drop([], axis=1, inplace=True)\n",
    "players_teams_df.drop([], axis=1, inplace=True)\n",
    "awards_players_df.drop(['award'], axis=1, inplace=True)\n",
    "coaches_df.drop([], axis=1, inplace=True)"
   ]
  },
  {
   "cell_type": "markdown",
   "metadata": {},
   "source": [
    "### Drop single value columns"
   ]
  },
  {
   "cell_type": "code",
   "execution_count": 6,
   "metadata": {},
   "outputs": [
    {
     "data": {
      "text/plain": [
       "'Dropping column lgID from dataframe awards_players'"
      ]
     },
     "metadata": {},
     "output_type": "display_data"
    },
    {
     "data": {
      "text/plain": [
       "'Dropping column lgID from dataframe coaches'"
      ]
     },
     "metadata": {},
     "output_type": "display_data"
    },
    {
     "data": {
      "text/plain": [
       "'Dropping column lgID from dataframe players_teams'"
      ]
     },
     "metadata": {},
     "output_type": "display_data"
    },
    {
     "data": {
      "text/plain": [
       "'Dropping column firstseason from dataframe players'"
      ]
     },
     "metadata": {},
     "output_type": "display_data"
    },
    {
     "data": {
      "text/plain": [
       "'Dropping column lastseason from dataframe players'"
      ]
     },
     "metadata": {},
     "output_type": "display_data"
    },
    {
     "data": {
      "text/plain": [
       "'Dropping column lgIDWinner from dataframe series_post'"
      ]
     },
     "metadata": {},
     "output_type": "display_data"
    },
    {
     "data": {
      "text/plain": [
       "'Dropping column lgIDLoser from dataframe series_post'"
      ]
     },
     "metadata": {},
     "output_type": "display_data"
    },
    {
     "data": {
      "text/plain": [
       "'Dropping column lgID from dataframe teams_post'"
      ]
     },
     "metadata": {},
     "output_type": "display_data"
    },
    {
     "data": {
      "text/plain": [
       "'Dropping column lgID from dataframe teams'"
      ]
     },
     "metadata": {},
     "output_type": "display_data"
    },
    {
     "data": {
      "text/plain": [
       "'Dropping column divID from dataframe teams'"
      ]
     },
     "metadata": {},
     "output_type": "display_data"
    },
    {
     "data": {
      "text/plain": [
       "'Dropping column seeded from dataframe teams'"
      ]
     },
     "metadata": {},
     "output_type": "display_data"
    },
    {
     "data": {
      "text/plain": [
       "'Dropping column tmORB from dataframe teams'"
      ]
     },
     "metadata": {},
     "output_type": "display_data"
    },
    {
     "data": {
      "text/plain": [
       "'Dropping column tmDRB from dataframe teams'"
      ]
     },
     "metadata": {},
     "output_type": "display_data"
    },
    {
     "data": {
      "text/plain": [
       "'Dropping column tmTRB from dataframe teams'"
      ]
     },
     "metadata": {},
     "output_type": "display_data"
    },
    {
     "data": {
      "text/plain": [
       "'Dropping column opptmORB from dataframe teams'"
      ]
     },
     "metadata": {},
     "output_type": "display_data"
    },
    {
     "data": {
      "text/plain": [
       "'Dropping column opptmDRB from dataframe teams'"
      ]
     },
     "metadata": {},
     "output_type": "display_data"
    },
    {
     "data": {
      "text/plain": [
       "'Dropping column opptmTRB from dataframe teams'"
      ]
     },
     "metadata": {},
     "output_type": "display_data"
    },
    {
     "data": {
      "text/plain": [
       "'Dropping column lgID from dataframe season11_coaches'"
      ]
     },
     "metadata": {},
     "output_type": "display_data"
    },
    {
     "data": {
      "text/plain": [
       "'Dropping column stint from dataframe season11_coaches'"
      ]
     },
     "metadata": {},
     "output_type": "display_data"
    },
    {
     "data": {
      "text/plain": [
       "'Dropping column stint from dataframe season11_players_teams'"
      ]
     },
     "metadata": {},
     "output_type": "display_data"
    },
    {
     "data": {
      "text/plain": [
       "'Dropping column lgID from dataframe season11_players_teams'"
      ]
     },
     "metadata": {},
     "output_type": "display_data"
    }
   ],
   "source": [
    "needed_features = ['year']\n",
    "\n",
    "def drop_single_value_columns(df):\n",
    "    for column in df.columns:\n",
    "        if len(df[column].unique()) == 1 and column not in needed_features:\n",
    "            display(f\"Dropping column {column} from dataframe {df.Name}\")\n",
    "\n",
    "            df.drop(column, axis=1, inplace=True)\n",
    "\n",
    "for df in dfs:\n",
    "    drop_single_value_columns(df)"
   ]
  },
  {
   "cell_type": "markdown",
   "metadata": {},
   "source": [
    "### Drop rows with missing values"
   ]
  },
  {
   "cell_type": "code",
   "execution_count": 7,
   "metadata": {},
   "outputs": [],
   "source": [
    "players_df.drop(players_df[players_df['height'] == 0].index, inplace = True)\n",
    "players_df.drop(players_df[players_df['weight'] == 0].index, inplace = True)"
   ]
  },
  {
   "cell_type": "markdown",
   "metadata": {},
   "source": [
    "### Rename columns and replace values"
   ]
  },
  {
   "cell_type": "code",
   "execution_count": 8,
   "metadata": {},
   "outputs": [],
   "source": [
    "players_df.rename(columns={'bioID': 'playerID', 'stint': 'player_stint'}, inplace=True)\n",
    "players_df.replace('F-C', 'C-F', inplace=True)\n",
    "players_df.replace('F-G', 'G-F', inplace=True)\n",
    "\n",
    "coaches_df.rename(columns={'won': 'coach_wins', 'lost': 'coach_losses', 'post_wins': 'coach_post_wins', 'post_losses': 'coach_post_losses', 'stint': 'coach_stint'}, inplace=True)\n",
    "\n",
    "teams_df.rename(columns={'GP': 'team_GP', 'rank': 'current_year_rank'}, inplace=True)\n",
    "\n",
    "players_teams_df.rename(columns={'GP': 'player_team_GP'}, inplace=True)\n",
    "\n",
    "teams_post_df.rename(columns={'W': 'team_post_wins', 'L': 'team_post_losses'}, inplace=True)\n",
    "\n",
    "series_post_df.rename(columns={'W': 'series_post_wins', 'L': 'series_post_lost'}, inplace=True)"
   ]
  },
  {
   "cell_type": "markdown",
   "metadata": {},
   "source": [
    "### Add new columns"
   ]
  },
  {
   "cell_type": "code",
   "execution_count": 9,
   "metadata": {},
   "outputs": [
    {
     "name": "stderr",
     "output_type": "stream",
     "text": [
      "/tmp/ipykernel_3409942/2215790783.py:36: RuntimeWarning: divide by zero encountered in scalar divide\n",
      "  uper = 1 / min * (_3p + (1.5 * ast) +\n",
      "/tmp/ipykernel_3409942/2215790783.py:36: RuntimeWarning: invalid value encountered in scalar multiply\n",
      "  uper = 1 / min * (_3p + (1.5 * ast) +\n",
      "/tmp/ipykernel_3409942/2215790783.py:36: RuntimeWarning: divide by zero encountered in scalar divide\n",
      "  uper = 1 / min * (_3p + (1.5 * ast) +\n",
      "/tmp/ipykernel_3409942/2215790783.py:36: RuntimeWarning: invalid value encountered in scalar multiply\n",
      "  uper = 1 / min * (_3p + (1.5 * ast) +\n"
     ]
    },
    {
     "data": {
      "text/plain": [
       "count    1874.000000\n",
       "mean       15.000000\n",
       "std         8.880203\n",
       "min      -123.636226\n",
       "25%        11.204041\n",
       "50%        15.593892\n",
       "75%        19.789928\n",
       "max        73.331826\n",
       "Name: per, dtype: float64"
      ]
     },
     "execution_count": 9,
     "metadata": {},
     "output_type": "execute_result"
    }
   ],
   "source": [
    "for year, lg_data in players_teams_df.groupby('year'):\n",
    "    lg_ast = lg_data['assists'].sum() + lg_data['PostAssists'].sum()\n",
    "    lg_fg = lg_data['fgMade'].sum() + lg_data['PostfgMade'].sum()\n",
    "    lg_ft = lg_data['ftMade'].sum() + lg_data['PostftMade'].sum()\n",
    "    lg_to = lg_data['turnovers'].sum() + lg_data['PostTurnovers'].sum()\n",
    "    lg_fga = lg_data['fgAttempted'].sum() + lg_data['PostfgAttempted'].sum()\n",
    "    lg_fta = lg_data['ftAttempted'].sum() + lg_data['PostftAttempted'].sum()\n",
    "    lg_trb = lg_data['rebounds'].sum() + lg_data['PostRebounds'].sum()\n",
    "    lg_orb = lg_data['oRebounds'].sum() + lg_data['PostoRebounds'].sum()\n",
    "    lg_pf = lg_data['PF'].sum() + lg_data['PostPF'].sum()\n",
    "    lg_pts = lg_data['points'].sum() + lg_data['PostPoints'].sum()\n",
    "\n",
    "    factor = 2 / 3 - ((0.5 * lg_ast / lg_fg) / (2 * lg_fg / lg_ft))\n",
    "    vop = lg_pts / (lg_fga - lg_orb + lg_to + 0.44 * lg_fta)\n",
    "    drbp = (lg_trb - lg_orb) / lg_trb\n",
    "\n",
    "    for tmID, tm_data in lg_data.groupby('tmID'):\n",
    "        tm_ast = tm_data['assists'].sum() + tm_data['PostAssists'].sum()\n",
    "        tm_fg = tm_data['fgMade'].sum() + tm_data['PostfgMade'].sum()\n",
    "\n",
    "        for player, player_data in tm_data.groupby('playerID'):\n",
    "            min = player_data['minutes'].sum() + player_data['PostMinutes'].sum()\n",
    "            _3p = player_data['threeMade'].sum() + player_data['PostthreeMade'].sum()\n",
    "            ast = player_data['assists'].sum() + player_data['PostAssists'].sum()\n",
    "            fg = player_data['fgMade'].sum() + player_data['PostfgMade'].sum()\n",
    "            ft = player_data['ftMade'].sum() + player_data['PostftMade'].sum()\n",
    "            to = player_data['turnovers'].sum() + player_data['PostTurnovers'].sum()\n",
    "            fga = player_data['fgAttempted'].sum() + player_data['PostfgAttempted'].sum()\n",
    "            fta = player_data['ftAttempted'].sum() + player_data['PostftAttempted'].sum()\n",
    "            trb = player_data['rebounds'].sum() + player_data['PostRebounds'].sum()\n",
    "            orb = player_data['oRebounds'].sum() + player_data['PostoRebounds'].sum()\n",
    "            stl = player_data['steals'].sum() + player_data['PostSteals'].sum()\n",
    "            blk = player_data['blocks'].sum() + player_data['PostBlocks'].sum()\n",
    "            pf = player_data['PF'].sum() + player_data['PostPF'].sum()\n",
    "\n",
    "            uper = 1 / min * (_3p + (1.5 * ast) +\n",
    "                              ((2 - factor * tm_ast / tm_fg) * fg) +\n",
    "                              (0.5 * ft * (2 - 1 / 3 * tm_ast / tm_fg)) -\n",
    "                              (vop * to) - (vop * drbp * (fga - fg)) -\n",
    "                              (vop * 0.44 * (0.44 + (0.56 * drbp)) *\n",
    "                               (fta - ft)) + (vop * (1 - drbp) * (trb - orb)) +\n",
    "                              (vop * drbp * orb) + (vop * stl) +\n",
    "                              (vop * drbp * blk) -\n",
    "                              (pf *\n",
    "                               (lg_ft / lg_pf - 0.44 * lg_fta / lg_pf * vop)))\n",
    "\n",
    "            players_teams_df.loc[(players_teams_df['year'] == year) &\n",
    "                                 (players_teams_df['playerID'] == player) &\n",
    "                                 (players_teams_df['tmID'] == tmID),\n",
    "                                 'uper'] = uper\n",
    "\n",
    "    lg_uper = players_teams_df[players_teams_df['year'] == year]['uper'].mean()\n",
    "    players_teams_df.loc[\n",
    "        players_teams_df['year'] == year,\n",
    "        'per'] = players_teams_df[players_teams_df['year'] == year]['uper'] * (\n",
    "            15 / lg_uper)\n",
    "\n",
    "players_teams_df['per'].describe()\n"
   ]
  },
  {
   "cell_type": "code",
   "execution_count": 10,
   "metadata": {},
   "outputs": [
    {
     "data": {
      "text/html": [
       "<div>\n",
       "<style scoped>\n",
       "    .dataframe tbody tr th:only-of-type {\n",
       "        vertical-align: middle;\n",
       "    }\n",
       "\n",
       "    .dataframe tbody tr th {\n",
       "        vertical-align: top;\n",
       "    }\n",
       "\n",
       "    .dataframe thead th {\n",
       "        text-align: right;\n",
       "    }\n",
       "</style>\n",
       "<table border=\"1\" class=\"dataframe\">\n",
       "  <thead>\n",
       "    <tr style=\"text-align: right;\">\n",
       "      <th></th>\n",
       "      <th>year</th>\n",
       "      <th>tmID</th>\n",
       "      <th>confID</th>\n",
       "    </tr>\n",
       "  </thead>\n",
       "  <tbody>\n",
       "    <tr>\n",
       "      <th>0</th>\n",
       "      <td>11</td>\n",
       "      <td>ATL</td>\n",
       "      <td>EA</td>\n",
       "    </tr>\n",
       "    <tr>\n",
       "      <th>1</th>\n",
       "      <td>11</td>\n",
       "      <td>CHI</td>\n",
       "      <td>EA</td>\n",
       "    </tr>\n",
       "    <tr>\n",
       "      <th>2</th>\n",
       "      <td>11</td>\n",
       "      <td>CON</td>\n",
       "      <td>EA</td>\n",
       "    </tr>\n",
       "    <tr>\n",
       "      <th>3</th>\n",
       "      <td>11</td>\n",
       "      <td>IND</td>\n",
       "      <td>EA</td>\n",
       "    </tr>\n",
       "    <tr>\n",
       "      <th>4</th>\n",
       "      <td>11</td>\n",
       "      <td>LAS</td>\n",
       "      <td>WE</td>\n",
       "    </tr>\n",
       "  </tbody>\n",
       "</table>\n",
       "</div>"
      ],
      "text/plain": [
       "   year tmID confID\n",
       "0    11  ATL     EA\n",
       "1    11  CHI     EA\n",
       "2    11  CON     EA\n",
       "3    11  IND     EA\n",
       "4    11  LAS     WE"
      ]
     },
     "metadata": {},
     "output_type": "display_data"
    }
   ],
   "source": [
    "awards_players_df['award'] = True\n",
    "\n",
    "main_df = pd.concat([season11_teams_df, teams_df])\n",
    "main_df.dropna(inplace=True, axis=1)\n",
    "\n",
    "# show the first 5 rows of the new teams dataframe\n",
    "display(main_df.head())\n",
    "\n",
    "all_players_teams_df = pd.concat([season11_players_teams_df, players_teams_df])\n",
    "all_players_teams_df.dropna(inplace=True, axis=1)\n",
    "\n",
    "all_coaches_df = pd.concat([season11_coaches_df, coaches_df])\n",
    "all_coaches_df.dropna(inplace=True, axis=1)\n",
    "\n",
    "for tmID, team_data in main_df.groupby('tmID'):\n",
    "    for year in team_data['year'].values:\n",
    "        current_year_data = team_data[team_data['year'] == year]\n",
    "\n",
    "        # get players that played in the previous year for the team\n",
    "        player_ids = all_players_teams_df[\n",
    "            (all_players_teams_df['tmID'] == tmID)\n",
    "            & (all_players_teams_df['year'] == year)]['playerID'].values\n",
    "        players = players_df[players_df['playerID'].isin(player_ids)]\n",
    "        players_teams = players_teams_df[players_teams_df['playerID'].isin(\n",
    "            player_ids)]\n",
    "\n",
    "        main_df.loc[((main_df['tmID'] == tmID) & (main_df['year'] == year)),\n",
    "                    'avg_per'] = players_teams[players_teams['year'] <\n",
    "                                               year]['per'].mean()\n",
    "        main_df.loc[((main_df['tmID'] == tmID) & (main_df['year'] == year)),\n",
    "                    'avg_height'] = players['height'].mean()\n",
    "        # main_df.loc[((main_df['tmID'] == tmID) & (main_df['year'] == year)),\n",
    "        #             'avg_weight'] = players['weight'].mean()\n",
    "\n",
    "        # register average height and weight for each position for each team\n",
    "        # for position, players_per_position in players.groupby('pos'):\n",
    "        #     main_df.loc[((main_df['tmID'] == tmID) &\n",
    "        #                  (main_df['year'] == year)),\n",
    "        #                 f'avg_height_pos_{position}'] = players_per_position[\n",
    "        #                     'height'].mean()\n",
    "\n",
    "        #     players_teams = players_teams_df[\n",
    "        #         (players_teams_df['playerID'].isin(\n",
    "        #             players_per_position['playerID'].values))\n",
    "        #         & (players_teams_df['year'] == year)]\n",
    "        #     main_df.loc[((main_df['tmID'] == tmID) & (main_df['year'] == year)), f'avg_weight_pos_{position}'] = players_per_position['weight'].mean()\n",
    "        #     main_df.loc[\n",
    "        #         (main_df['tmID'] == tmID) & (main_df['year'] == year),\n",
    "        #         f'avg_per_pos_{position}'] = players_teams['per'].mean()\n",
    "\n",
    "        # count number of players awarded in the previous year\n",
    "        # this gave the same accuracies but with a leakage somewhere\n",
    "        players_awards = awards_players_df[\n",
    "            (awards_players_df['playerID'].isin(player_ids))\n",
    "            & (awards_players_df['year'] < year)]\n",
    "        main_df.loc[((main_df['tmID'] == tmID) & (main_df['year'] == year)),\n",
    "                    'players_awarded'] = players_awards['award'].count()\n",
    "\n",
    "        # count number of coaches awarded in the previous year\n",
    "        # coaches = all_coaches_df[(all_coaches_df['tmID'] == tmID)\n",
    "        #                          & (all_coaches_df['year'] == year)]\n",
    "        # coaches_ids = coaches['coachID'].values\n",
    "        # coaches_awards = awards_players_df[\n",
    "        #     (awards_players_df['playerID'].isin(coaches_ids))\n",
    "        #     & (awards_players_df['year'] < year)]\n",
    "        # main_df.loc[((main_df['tmID'] == tmID) & (main_df['year'] == year)),\n",
    "        #             'coaches_awarded'] = coaches_awards['award'].count()\n",
    "\n",
    "\n",
    "for tmID, team_data in teams_df.groupby('tmID'):\n",
    "    for year in team_data['year'].values:\n",
    "        next_year = year + 1\n",
    "\n",
    "        current_year_data = team_data[team_data['year'] == year]\n",
    "\n",
    "        main_df.loc[((main_df['tmID'] == tmID) & (main_df['year'] == year)), 'playoff'] = current_year_data['playoff'].values\n",
    "\n",
    "        # register previous year rank for each team\n",
    "        # current_year_rank_series_data = current_year_data['current_year_rank'].values\n",
    "        # current_year_rank = current_year_rank_series_data[0] if len(current_year_rank_series_data) > 0 else -1\n",
    "        # main_df.loc[((main_df['tmID'] == tmID) & (main_df['year'] == next_year)), 'previous_year_rank'] = current_year_rank\n",
    "\n",
    "        # shift numerical stats one year forward\n",
    "        # for column in teams_df.loc[:,'o_fgm':'d_pts']:\n",
    "        #     main_df.loc[((main_df['tmID'] == tmID) & (main_df['year'] == next_year)), f'previous_year_{column}'] = current_year_data[column].values[0] if len(current_year_data[column].values) > 0 else -1\n",
    "\n",
    "        # add previous year win percentage\n",
    "        # previous_year_win_percentage = current_year_data['won'].sum() / current_year_data['team_GP'].sum()\n",
    "        # main_df.loc[((main_df['tmID'] == tmID) & (main_df['year'] == next_year)), 'previous_year_win_percentage'] = previous_year_win_percentage\n",
    "\n",
    "        # previous_year_post_win_percentage = teams_post_df.loc[((teams_post_df['tmID'] == tmID) & (teams_post_df['year'] == year)), 'team_post_wins'].sum() / (teams_post_df.loc[((teams_post_df['tmID'] == tmID) & (teams_post_df['year'] == year)), 'team_post_wins'].sum() + teams_post_df.loc[((teams_post_df['tmID'] == tmID) & (teams_post_df['year'] == year)), 'team_post_losses'].sum())\n",
    "        # main_df.loc[((main_df['tmID'] == tmID) & (main_df['year'] == next_year)), 'previous_year_post_win_percentage'] = previous_year_post_win_percentage\n",
    "\n",
    "        # calculate AVG PPG for previous year\n",
    "        # previous_year_avg_ppg = current_year_data['o_pts'].sum() / current_year_data['team_GP'].sum()\n",
    "        # main_df.loc[((main_df['tmID'] == tmID) & (main_df['year'] == next_year)), 'previous_year_avg_ppg'] = previous_year_avg_ppg\n",
    "\n",
    "        # register previous year coach stats\n",
    "        # current_year_coach = coaches_df[(coaches_df['tmID'] == tmID) & (coaches_df['year'] == year)]\n",
    "\n",
    "main_df['avg_per'].fillna(15, inplace=True)\n",
    "\n",
    "main_df.sort_values(by=['tmID', 'year'], inplace=True)\n"
   ]
  },
  {
   "cell_type": "markdown",
   "metadata": {},
   "source": [
    "# Drop irrelevant columns\n",
    "### After merging"
   ]
  },
  {
   "cell_type": "code",
   "execution_count": 11,
   "metadata": {},
   "outputs": [
    {
     "data": {
      "text/html": [
       "<div>\n",
       "<style scoped>\n",
       "    .dataframe tbody tr th:only-of-type {\n",
       "        vertical-align: middle;\n",
       "    }\n",
       "\n",
       "    .dataframe tbody tr th {\n",
       "        vertical-align: top;\n",
       "    }\n",
       "\n",
       "    .dataframe thead th {\n",
       "        text-align: right;\n",
       "    }\n",
       "</style>\n",
       "<table border=\"1\" class=\"dataframe\">\n",
       "  <thead>\n",
       "    <tr style=\"text-align: right;\">\n",
       "      <th></th>\n",
       "      <th>year</th>\n",
       "      <th>tmID</th>\n",
       "      <th>confID</th>\n",
       "      <th>avg_per</th>\n",
       "      <th>avg_height</th>\n",
       "      <th>players_awarded</th>\n",
       "      <th>playoff</th>\n",
       "    </tr>\n",
       "  </thead>\n",
       "  <tbody>\n",
       "    <tr>\n",
       "      <th>0</th>\n",
       "      <td>9</td>\n",
       "      <td>ATL</td>\n",
       "      <td>EA</td>\n",
       "      <td>15.180034</td>\n",
       "      <td>73.214286</td>\n",
       "      <td>2.0</td>\n",
       "      <td>N</td>\n",
       "    </tr>\n",
       "    <tr>\n",
       "      <th>1</th>\n",
       "      <td>10</td>\n",
       "      <td>ATL</td>\n",
       "      <td>EA</td>\n",
       "      <td>19.189636</td>\n",
       "      <td>72.538462</td>\n",
       "      <td>5.0</td>\n",
       "      <td>Y</td>\n",
       "    </tr>\n",
       "    <tr>\n",
       "      <th>0</th>\n",
       "      <td>11</td>\n",
       "      <td>ATL</td>\n",
       "      <td>EA</td>\n",
       "      <td>16.671915</td>\n",
       "      <td>72.916667</td>\n",
       "      <td>3.0</td>\n",
       "      <td>NaN</td>\n",
       "    </tr>\n",
       "    <tr>\n",
       "      <th>2</th>\n",
       "      <td>1</td>\n",
       "      <td>CHA</td>\n",
       "      <td>EA</td>\n",
       "      <td>15.000000</td>\n",
       "      <td>71.692308</td>\n",
       "      <td>0.0</td>\n",
       "      <td>N</td>\n",
       "    </tr>\n",
       "    <tr>\n",
       "      <th>3</th>\n",
       "      <td>2</td>\n",
       "      <td>CHA</td>\n",
       "      <td>EA</td>\n",
       "      <td>17.270528</td>\n",
       "      <td>71.500000</td>\n",
       "      <td>0.0</td>\n",
       "      <td>Y</td>\n",
       "    </tr>\n",
       "    <tr>\n",
       "      <th>...</th>\n",
       "      <td>...</td>\n",
       "      <td>...</td>\n",
       "      <td>...</td>\n",
       "      <td>...</td>\n",
       "      <td>...</td>\n",
       "      <td>...</td>\n",
       "      <td>...</td>\n",
       "    </tr>\n",
       "    <tr>\n",
       "      <th>138</th>\n",
       "      <td>7</td>\n",
       "      <td>WAS</td>\n",
       "      <td>EA</td>\n",
       "      <td>18.873522</td>\n",
       "      <td>71.833333</td>\n",
       "      <td>2.0</td>\n",
       "      <td>Y</td>\n",
       "    </tr>\n",
       "    <tr>\n",
       "      <th>139</th>\n",
       "      <td>8</td>\n",
       "      <td>WAS</td>\n",
       "      <td>EA</td>\n",
       "      <td>18.314123</td>\n",
       "      <td>72.600000</td>\n",
       "      <td>2.0</td>\n",
       "      <td>N</td>\n",
       "    </tr>\n",
       "    <tr>\n",
       "      <th>140</th>\n",
       "      <td>9</td>\n",
       "      <td>WAS</td>\n",
       "      <td>EA</td>\n",
       "      <td>18.359449</td>\n",
       "      <td>71.625000</td>\n",
       "      <td>2.0</td>\n",
       "      <td>N</td>\n",
       "    </tr>\n",
       "    <tr>\n",
       "      <th>141</th>\n",
       "      <td>10</td>\n",
       "      <td>WAS</td>\n",
       "      <td>EA</td>\n",
       "      <td>17.856622</td>\n",
       "      <td>72.166667</td>\n",
       "      <td>0.0</td>\n",
       "      <td>Y</td>\n",
       "    </tr>\n",
       "    <tr>\n",
       "      <th>11</th>\n",
       "      <td>11</td>\n",
       "      <td>WAS</td>\n",
       "      <td>EA</td>\n",
       "      <td>17.858716</td>\n",
       "      <td>72.692308</td>\n",
       "      <td>2.0</td>\n",
       "      <td>NaN</td>\n",
       "    </tr>\n",
       "  </tbody>\n",
       "</table>\n",
       "<p>154 rows × 7 columns</p>\n",
       "</div>"
      ],
      "text/plain": [
       "     year tmID confID    avg_per  avg_height  players_awarded playoff\n",
       "0       9  ATL     EA  15.180034   73.214286              2.0       N\n",
       "1      10  ATL     EA  19.189636   72.538462              5.0       Y\n",
       "0      11  ATL     EA  16.671915   72.916667              3.0     NaN\n",
       "2       1  CHA     EA  15.000000   71.692308              0.0       N\n",
       "3       2  CHA     EA  17.270528   71.500000              0.0       Y\n",
       "..    ...  ...    ...        ...         ...              ...     ...\n",
       "138     7  WAS     EA  18.873522   71.833333              2.0       Y\n",
       "139     8  WAS     EA  18.314123   72.600000              2.0       N\n",
       "140     9  WAS     EA  18.359449   71.625000              2.0       N\n",
       "141    10  WAS     EA  17.856622   72.166667              0.0       Y\n",
       "11     11  WAS     EA  17.858716   72.692308              2.0     NaN\n",
       "\n",
       "[154 rows x 7 columns]"
      ]
     },
     "execution_count": 11,
     "metadata": {},
     "output_type": "execute_result"
    }
   ],
   "source": [
    "# main_df = main_df.drop([\"rank\", \"firstRound\", \"semis\", \"finals\", \"attend\", \"stint_x\", \"stint_y\", \"birthDate\", \"deathDate\", \"height\", \"weight\", \"award\"], axis=1)\n",
    "# main_df['award'].fillna(False, inplace=True) # mark non-award winners as False\n",
    "# main_df['team_post_wins'].fillna(0, inplace=True)\n",
    "# main_df['team_post_losses'].fillna(0, inplace=True)teams_df\n",
    "\n",
    "# Drop the first year of each team\n",
    "# main_df.dropna(inplace=True, subset=['previous_year_rank'])\n",
    "\n",
    "# main_df.dropna(inplace=True)\n",
    "\n",
    "main_df"
   ]
  },
  {
   "cell_type": "markdown",
   "metadata": {},
   "source": []
  },
  {
   "cell_type": "markdown",
   "metadata": {},
   "source": [
    "# Export clean data to a .CSV file"
   ]
  },
  {
   "cell_type": "code",
   "execution_count": 12,
   "metadata": {},
   "outputs": [
    {
     "data": {
      "text/html": [
       "<div>\n",
       "<style scoped>\n",
       "    .dataframe tbody tr th:only-of-type {\n",
       "        vertical-align: middle;\n",
       "    }\n",
       "\n",
       "    .dataframe tbody tr th {\n",
       "        vertical-align: top;\n",
       "    }\n",
       "\n",
       "    .dataframe thead th {\n",
       "        text-align: right;\n",
       "    }\n",
       "</style>\n",
       "<table border=\"1\" class=\"dataframe\">\n",
       "  <thead>\n",
       "    <tr style=\"text-align: right;\">\n",
       "      <th></th>\n",
       "      <th>year</th>\n",
       "      <th>tmID</th>\n",
       "      <th>confID</th>\n",
       "      <th>avg_per</th>\n",
       "      <th>avg_height</th>\n",
       "      <th>players_awarded</th>\n",
       "      <th>playoff</th>\n",
       "    </tr>\n",
       "  </thead>\n",
       "  <tbody>\n",
       "    <tr>\n",
       "      <th>0</th>\n",
       "      <td>9</td>\n",
       "      <td>ATL</td>\n",
       "      <td>EA</td>\n",
       "      <td>15.180034</td>\n",
       "      <td>73.214286</td>\n",
       "      <td>2.0</td>\n",
       "      <td>N</td>\n",
       "    </tr>\n",
       "    <tr>\n",
       "      <th>1</th>\n",
       "      <td>10</td>\n",
       "      <td>ATL</td>\n",
       "      <td>EA</td>\n",
       "      <td>19.189636</td>\n",
       "      <td>72.538462</td>\n",
       "      <td>5.0</td>\n",
       "      <td>Y</td>\n",
       "    </tr>\n",
       "    <tr>\n",
       "      <th>0</th>\n",
       "      <td>11</td>\n",
       "      <td>ATL</td>\n",
       "      <td>EA</td>\n",
       "      <td>16.671915</td>\n",
       "      <td>72.916667</td>\n",
       "      <td>3.0</td>\n",
       "      <td>NaN</td>\n",
       "    </tr>\n",
       "    <tr>\n",
       "      <th>2</th>\n",
       "      <td>1</td>\n",
       "      <td>CHA</td>\n",
       "      <td>EA</td>\n",
       "      <td>15.000000</td>\n",
       "      <td>71.692308</td>\n",
       "      <td>0.0</td>\n",
       "      <td>N</td>\n",
       "    </tr>\n",
       "    <tr>\n",
       "      <th>3</th>\n",
       "      <td>2</td>\n",
       "      <td>CHA</td>\n",
       "      <td>EA</td>\n",
       "      <td>17.270528</td>\n",
       "      <td>71.500000</td>\n",
       "      <td>0.0</td>\n",
       "      <td>Y</td>\n",
       "    </tr>\n",
       "    <tr>\n",
       "      <th>4</th>\n",
       "      <td>3</td>\n",
       "      <td>CHA</td>\n",
       "      <td>EA</td>\n",
       "      <td>15.845493</td>\n",
       "      <td>71.307692</td>\n",
       "      <td>0.0</td>\n",
       "      <td>Y</td>\n",
       "    </tr>\n",
       "    <tr>\n",
       "      <th>5</th>\n",
       "      <td>4</td>\n",
       "      <td>CHA</td>\n",
       "      <td>EA</td>\n",
       "      <td>17.544791</td>\n",
       "      <td>71.181818</td>\n",
       "      <td>0.0</td>\n",
       "      <td>Y</td>\n",
       "    </tr>\n",
       "    <tr>\n",
       "      <th>6</th>\n",
       "      <td>5</td>\n",
       "      <td>CHA</td>\n",
       "      <td>EA</td>\n",
       "      <td>16.630257</td>\n",
       "      <td>72.000000</td>\n",
       "      <td>0.0</td>\n",
       "      <td>N</td>\n",
       "    </tr>\n",
       "    <tr>\n",
       "      <th>7</th>\n",
       "      <td>6</td>\n",
       "      <td>CHA</td>\n",
       "      <td>EA</td>\n",
       "      <td>17.237768</td>\n",
       "      <td>72.062500</td>\n",
       "      <td>0.0</td>\n",
       "      <td>N</td>\n",
       "    </tr>\n",
       "    <tr>\n",
       "      <th>8</th>\n",
       "      <td>7</td>\n",
       "      <td>CHA</td>\n",
       "      <td>EA</td>\n",
       "      <td>16.498319</td>\n",
       "      <td>72.916667</td>\n",
       "      <td>0.0</td>\n",
       "      <td>N</td>\n",
       "    </tr>\n",
       "    <tr>\n",
       "      <th>9</th>\n",
       "      <td>7</td>\n",
       "      <td>CHI</td>\n",
       "      <td>EA</td>\n",
       "      <td>14.896108</td>\n",
       "      <td>72.400000</td>\n",
       "      <td>0.0</td>\n",
       "      <td>N</td>\n",
       "    </tr>\n",
       "    <tr>\n",
       "      <th>10</th>\n",
       "      <td>8</td>\n",
       "      <td>CHI</td>\n",
       "      <td>EA</td>\n",
       "      <td>15.592329</td>\n",
       "      <td>71.500000</td>\n",
       "      <td>0.0</td>\n",
       "      <td>N</td>\n",
       "    </tr>\n",
       "    <tr>\n",
       "      <th>11</th>\n",
       "      <td>9</td>\n",
       "      <td>CHI</td>\n",
       "      <td>EA</td>\n",
       "      <td>15.991620</td>\n",
       "      <td>72.384615</td>\n",
       "      <td>1.0</td>\n",
       "      <td>N</td>\n",
       "    </tr>\n",
       "    <tr>\n",
       "      <th>12</th>\n",
       "      <td>10</td>\n",
       "      <td>CHI</td>\n",
       "      <td>EA</td>\n",
       "      <td>16.138092</td>\n",
       "      <td>71.916667</td>\n",
       "      <td>1.0</td>\n",
       "      <td>N</td>\n",
       "    </tr>\n",
       "    <tr>\n",
       "      <th>1</th>\n",
       "      <td>11</td>\n",
       "      <td>CHI</td>\n",
       "      <td>EA</td>\n",
       "      <td>16.153844</td>\n",
       "      <td>73.000000</td>\n",
       "      <td>1.0</td>\n",
       "      <td>NaN</td>\n",
       "    </tr>\n",
       "    <tr>\n",
       "      <th>13</th>\n",
       "      <td>1</td>\n",
       "      <td>CLE</td>\n",
       "      <td>EA</td>\n",
       "      <td>15.000000</td>\n",
       "      <td>70.923077</td>\n",
       "      <td>0.0</td>\n",
       "      <td>Y</td>\n",
       "    </tr>\n",
       "    <tr>\n",
       "      <th>14</th>\n",
       "      <td>2</td>\n",
       "      <td>CLE</td>\n",
       "      <td>EA</td>\n",
       "      <td>17.253203</td>\n",
       "      <td>71.866667</td>\n",
       "      <td>0.0</td>\n",
       "      <td>Y</td>\n",
       "    </tr>\n",
       "    <tr>\n",
       "      <th>15</th>\n",
       "      <td>3</td>\n",
       "      <td>CLE</td>\n",
       "      <td>EA</td>\n",
       "      <td>16.212036</td>\n",
       "      <td>71.538462</td>\n",
       "      <td>0.0</td>\n",
       "      <td>N</td>\n",
       "    </tr>\n",
       "    <tr>\n",
       "      <th>16</th>\n",
       "      <td>4</td>\n",
       "      <td>CLE</td>\n",
       "      <td>EA</td>\n",
       "      <td>16.921747</td>\n",
       "      <td>71.727273</td>\n",
       "      <td>1.0</td>\n",
       "      <td>Y</td>\n",
       "    </tr>\n",
       "    <tr>\n",
       "      <th>17</th>\n",
       "      <td>4</td>\n",
       "      <td>CON</td>\n",
       "      <td>EA</td>\n",
       "      <td>17.628515</td>\n",
       "      <td>71.727273</td>\n",
       "      <td>1.0</td>\n",
       "      <td>Y</td>\n",
       "    </tr>\n",
       "  </tbody>\n",
       "</table>\n",
       "</div>"
      ],
      "text/plain": [
       "    year tmID confID    avg_per  avg_height  players_awarded playoff\n",
       "0      9  ATL     EA  15.180034   73.214286              2.0       N\n",
       "1     10  ATL     EA  19.189636   72.538462              5.0       Y\n",
       "0     11  ATL     EA  16.671915   72.916667              3.0     NaN\n",
       "2      1  CHA     EA  15.000000   71.692308              0.0       N\n",
       "3      2  CHA     EA  17.270528   71.500000              0.0       Y\n",
       "4      3  CHA     EA  15.845493   71.307692              0.0       Y\n",
       "5      4  CHA     EA  17.544791   71.181818              0.0       Y\n",
       "6      5  CHA     EA  16.630257   72.000000              0.0       N\n",
       "7      6  CHA     EA  17.237768   72.062500              0.0       N\n",
       "8      7  CHA     EA  16.498319   72.916667              0.0       N\n",
       "9      7  CHI     EA  14.896108   72.400000              0.0       N\n",
       "10     8  CHI     EA  15.592329   71.500000              0.0       N\n",
       "11     9  CHI     EA  15.991620   72.384615              1.0       N\n",
       "12    10  CHI     EA  16.138092   71.916667              1.0       N\n",
       "1     11  CHI     EA  16.153844   73.000000              1.0     NaN\n",
       "13     1  CLE     EA  15.000000   70.923077              0.0       Y\n",
       "14     2  CLE     EA  17.253203   71.866667              0.0       Y\n",
       "15     3  CLE     EA  16.212036   71.538462              0.0       N\n",
       "16     4  CLE     EA  16.921747   71.727273              1.0       Y\n",
       "17     4  CON     EA  17.628515   71.727273              1.0       Y"
      ]
     },
     "execution_count": 12,
     "metadata": {},
     "output_type": "execute_result"
    }
   ],
   "source": [
    "main_df.to_csv(\"../data/clean/main_df.csv\", index=False)\n",
    "main_df.head(20)"
   ]
  },
  {
   "cell_type": "markdown",
   "metadata": {},
   "source": [
    "### Information about the resulting dataset"
   ]
  },
  {
   "cell_type": "code",
   "execution_count": 13,
   "metadata": {},
   "outputs": [
    {
     "name": "stdout",
     "output_type": "stream",
     "text": [
      "<class 'pandas.core.frame.DataFrame'>\n",
      "Index: 154 entries, 0 to 11\n",
      "Data columns (total 7 columns):\n",
      " #   Column           Non-Null Count  Dtype  \n",
      "---  ------           --------------  -----  \n",
      " 0   year             154 non-null    int64  \n",
      " 1   tmID             154 non-null    object \n",
      " 2   confID           154 non-null    object \n",
      " 3   avg_per          154 non-null    float64\n",
      " 4   avg_height       154 non-null    float64\n",
      " 5   players_awarded  154 non-null    float64\n",
      " 6   playoff          142 non-null    object \n",
      "dtypes: float64(3), int64(1), object(3)\n",
      "memory usage: 9.6+ KB\n"
     ]
    },
    {
     "data": {
      "text/html": [
       "<div>\n",
       "<style scoped>\n",
       "    .dataframe tbody tr th:only-of-type {\n",
       "        vertical-align: middle;\n",
       "    }\n",
       "\n",
       "    .dataframe tbody tr th {\n",
       "        vertical-align: top;\n",
       "    }\n",
       "\n",
       "    .dataframe thead th {\n",
       "        text-align: right;\n",
       "    }\n",
       "</style>\n",
       "<table border=\"1\" class=\"dataframe\">\n",
       "  <thead>\n",
       "    <tr style=\"text-align: right;\">\n",
       "      <th></th>\n",
       "      <th>year</th>\n",
       "      <th>avg_per</th>\n",
       "      <th>avg_height</th>\n",
       "      <th>players_awarded</th>\n",
       "    </tr>\n",
       "  </thead>\n",
       "  <tbody>\n",
       "    <tr>\n",
       "      <th>count</th>\n",
       "      <td>154.000000</td>\n",
       "      <td>154.000000</td>\n",
       "      <td>154.000000</td>\n",
       "      <td>154.000000</td>\n",
       "    </tr>\n",
       "    <tr>\n",
       "      <th>mean</th>\n",
       "      <td>5.746753</td>\n",
       "      <td>17.191409</td>\n",
       "      <td>71.782845</td>\n",
       "      <td>2.032468</td>\n",
       "    </tr>\n",
       "    <tr>\n",
       "      <th>std</th>\n",
       "      <td>3.192233</td>\n",
       "      <td>1.929389</td>\n",
       "      <td>1.336030</td>\n",
       "      <td>3.043087</td>\n",
       "    </tr>\n",
       "    <tr>\n",
       "      <th>min</th>\n",
       "      <td>1.000000</td>\n",
       "      <td>9.973721</td>\n",
       "      <td>66.000000</td>\n",
       "      <td>0.000000</td>\n",
       "    </tr>\n",
       "    <tr>\n",
       "      <th>25%</th>\n",
       "      <td>3.000000</td>\n",
       "      <td>15.747074</td>\n",
       "      <td>71.551948</td>\n",
       "      <td>0.000000</td>\n",
       "    </tr>\n",
       "    <tr>\n",
       "      <th>50%</th>\n",
       "      <td>6.000000</td>\n",
       "      <td>17.243668</td>\n",
       "      <td>72.000000</td>\n",
       "      <td>1.000000</td>\n",
       "    </tr>\n",
       "    <tr>\n",
       "      <th>75%</th>\n",
       "      <td>8.750000</td>\n",
       "      <td>18.474363</td>\n",
       "      <td>72.491667</td>\n",
       "      <td>2.750000</td>\n",
       "    </tr>\n",
       "    <tr>\n",
       "      <th>max</th>\n",
       "      <td>11.000000</td>\n",
       "      <td>23.207324</td>\n",
       "      <td>73.500000</td>\n",
       "      <td>16.000000</td>\n",
       "    </tr>\n",
       "  </tbody>\n",
       "</table>\n",
       "</div>"
      ],
      "text/plain": [
       "             year     avg_per  avg_height  players_awarded\n",
       "count  154.000000  154.000000  154.000000       154.000000\n",
       "mean     5.746753   17.191409   71.782845         2.032468\n",
       "std      3.192233    1.929389    1.336030         3.043087\n",
       "min      1.000000    9.973721   66.000000         0.000000\n",
       "25%      3.000000   15.747074   71.551948         0.000000\n",
       "50%      6.000000   17.243668   72.000000         1.000000\n",
       "75%      8.750000   18.474363   72.491667         2.750000\n",
       "max     11.000000   23.207324   73.500000        16.000000"
      ]
     },
     "execution_count": 13,
     "metadata": {},
     "output_type": "execute_result"
    }
   ],
   "source": [
    "main_df.info()\n",
    "main_df.describe()"
   ]
  }
 ],
 "metadata": {
  "kernelspec": {
   "display_name": "Python 3",
   "language": "python",
   "name": "python3"
  },
  "language_info": {
   "codemirror_mode": {
    "name": "ipython",
    "version": 3
   },
   "file_extension": ".py",
   "mimetype": "text/x-python",
   "name": "python",
   "nbconvert_exporter": "python",
   "pygments_lexer": "ipython3",
   "version": "3.11.6"
  },
  "orig_nbformat": 4
 },
 "nbformat": 4,
 "nbformat_minor": 2
}
