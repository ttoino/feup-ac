{
 "cells": [
  {
   "cell_type": "code",
   "execution_count": null,
   "metadata": {},
   "outputs": [],
   "source": [
    "import pandas as pd\n",
    "\n",
    "# select data > clean data > construct data > integrate data > format data\n",
    "\n",
    "# data\n",
    "# • ... quality\n",
    "#       – accuracy, completeness, consistency, timeliness, believability, interpretability\n",
    "# • … cleaning\n",
    "#       – e.g. missing/noisy values, outliers\n",
    "# • integration from multiple sources\n",
    "#       – entity identification problem is challenging\n",
    "# • reduction\n",
    "#       – curse of dimensionality and dimensionality reduction\n",
    "#       – numerosity reduction\n",
    "# • transformation and discretization"
   ]
  },
  {
   "cell_type": "markdown",
   "metadata": {},
   "source": [
    "# Load data"
   ]
  },
  {
   "cell_type": "code",
   "execution_count": null,
   "metadata": {},
   "outputs": [],
   "source": [
    "awards_players_df = pd.read_csv('../data/awards_players.csv')\n",
    "coaches_df = pd.read_csv('../data/coaches.csv')\n",
    "players_teams_df = pd.read_csv('../data/players_teams.csv')\n",
    "players_df = pd.read_csv('../data/players.csv')\n",
    "series_post_df = pd.read_csv('../data/series_post.csv')\n",
    "teams_post_df = pd.read_csv('../data/teams_post.csv')\n",
    "teams_df = pd.read_csv('../data/teams.csv')"
   ]
  },
  {
   "cell_type": "markdown",
   "metadata": {},
   "source": [
    "# Clean data"
   ]
  },
  {
   "cell_type": "code",
   "execution_count": null,
   "metadata": {},
   "outputs": [],
   "source": [
    "# REMOVE DUPLICATES IF THERE ARE ANY\n",
    "awards_players_df = awards_players_df.drop_duplicates()\n",
    "coaches_df = coaches_df.drop_duplicates()\n",
    "players_teams_df = players_teams_df.drop_duplicates()\n",
    "players_df = players_df.drop_duplicates()\n",
    "series_post_df = series_post_df.drop_duplicates()\n",
    "teams_post_df = teams_post_df.drop_duplicates()\n",
    "teams_df = teams_df.drop_duplicates()\n",
    "\n",
    "# Convert \"playoff\" column to binary (Y: 1, N: 0)\n",
    "teams_df[\"playoff\"] = teams_df[\"playoff\"].map({\"Y\": 1, \"N\": 0})\n",
    "\n",
    "players_df.rename(columns={'bioID': 'playerID'}, inplace=True)\n",
    "coaches_df.rename(columns={'stint': 'coachStint'}, inplace=True)\n",
    "players_teams_df.rename(columns={'stint': 'playerStint'}, inplace=True)"
   ]
  },
  {
   "cell_type": "markdown",
   "metadata": {},
   "source": [
    "###  Drop irrelevant data"
   ]
  },
  {
   "cell_type": "code",
   "execution_count": null,
   "metadata": {},
   "outputs": [],
   "source": [
    "teams_df = teams_df.drop([\"divID\", \"lgID\", \"seeded\"], axis=1)\n",
    "coaches_df = coaches_df.drop([\"lgID\"], axis=1)\n",
    "players_df = players_df.drop([\"collegeOther\", \"firstseason\", \"lastseason\", \"birthDate\", \"deathDate\"], axis=1)\n",
    "awards_players_df = awards_players_df.drop([\"lgID\"], axis=1)\n",
    "players_teams_df = players_teams_df.drop([\"lgID\", \"playerStint\", \"height\", \"weight\"], axis=1)\n",
    "teams_post_df = teams_post_df.drop([\"lgID\"], axis=1)\n",
    "series_post_df = series_post_df.drop([\"lgIDWinner\", \"lgIDLoser\"], axis=1)\n",
    "\n",
    "# drop stint from players_teams, coaches?"
   ]
  },
  {
   "cell_type": "markdown",
   "metadata": {},
   "source": [
    "### Drop columns that only have 0 values in teams_dF"
   ]
  },
  {
   "cell_type": "code",
   "execution_count": null,
   "metadata": {},
   "outputs": [],
   "source": [
    "zero_columns = teams_df.columns[(teams_df == 0).all()]\n",
    "print(zero_columns)\n",
    "\n",
    "teams_df = teams_df.drop(columns=zero_columns)"
   ]
  },
  {
   "cell_type": "markdown",
   "metadata": {},
   "source": [
    "# Merge data"
   ]
  },
  {
   "cell_type": "code",
   "execution_count": null,
   "metadata": {},
   "outputs": [],
   "source": [
    "# Merge teams_df with coaches_df\n",
    "main_df = pd.merge(teams_df, coaches_df, on=['year', 'tmID'], how='left')\n",
    "\n",
    "# Merge teams_df with teams_post_df\n",
    "main_df = pd.merge(main_df, teams_post_df, on=['year', 'tmID'], how='left')\n",
    "\n",
    "# Merge with players_teams_df\n",
    "main_df = pd.merge(main_df, players_teams_df, on=['year', 'tmID'], how='left')\n",
    "\n",
    "# Merge with awards_players_df\n",
    "main_df = pd.merge(main_df, awards_players_df, on=['playerID','year'], how='left')\n",
    "\n",
    "# Merge with players_df\n",
    "main_df = pd.merge(main_df, players_df, on=['playerID'], how='left')\n",
    "\n",
    "# Merge with series_post_df\n",
    "# df = pd.merge(df, series_post_df, on=['year'], how='left')\n",
    "\n",
    "# Display the resulting merged data frame\n",
    "main_df.head()"
   ]
  },
  {
   "cell_type": "markdown",
   "metadata": {},
   "source": [
    "## Export train data"
   ]
  },
  {
   "cell_type": "code",
   "execution_count": null,
   "metadata": {},
   "outputs": [],
   "source": []
  },
  {
   "cell_type": "markdown",
   "metadata": {},
   "source": [
    "## Export test data"
   ]
  },
  {
   "cell_type": "code",
   "execution_count": null,
   "metadata": {},
   "outputs": [],
   "source": []
  },
  {
   "cell_type": "markdown",
   "metadata": {},
   "source": [
    "# Export clean data to a .CSV file"
   ]
  },
  {
   "cell_type": "code",
   "execution_count": null,
   "metadata": {},
   "outputs": [],
   "source": [
    "main_df = main_df.drop_duplicates()\n",
    "main_df.to_csv(\"../data/clean/main_df.csv\", index=False)\n",
    "\n",
    "main_df.head()"
   ]
  },
  {
   "cell_type": "markdown",
   "metadata": {},
   "source": [
    "### Information about the resulting dataset"
   ]
  },
  {
   "cell_type": "code",
   "execution_count": null,
   "metadata": {},
   "outputs": [],
   "source": [
    "main_df.info()\n",
    "main_df.describe()"
   ]
  }
 ],
 "metadata": {
  "kernelspec": {
   "display_name": "Python 3",
   "language": "python",
   "name": "python3"
  },
  "language_info": {
   "codemirror_mode": {
    "name": "ipython",
    "version": 3
   },
   "file_extension": ".py",
   "mimetype": "text/x-python",
   "name": "python",
   "nbconvert_exporter": "python",
   "pygments_lexer": "ipython3",
   "version": "3.11.5"
  },
  "orig_nbformat": 4
 },
 "nbformat": 4,
 "nbformat_minor": 2
}
