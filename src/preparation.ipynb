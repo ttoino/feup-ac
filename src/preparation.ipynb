{
 "cells": [
  {
   "cell_type": "code",
   "execution_count": null,
   "metadata": {},
   "outputs": [],
   "source": [
    "import pandas as pd"
   ]
  },
  {
   "cell_type": "markdown",
   "metadata": {},
   "source": [
    "# Load data"
   ]
  },
  {
   "cell_type": "code",
   "execution_count": null,
   "metadata": {},
   "outputs": [],
   "source": [
    "awards_players_df = pd.read_csv('../data/awards_players.csv')\n",
    "coaches_df = pd.read_csv('../data/coaches.csv')\n",
    "players_teams_df = pd.read_csv('../data/players_teams.csv')\n",
    "players_df = pd.read_csv('../data/players.csv')\n",
    "series_post_df = pd.read_csv('../data/series_post.csv')\n",
    "teams_post_df = pd.read_csv('../data/teams_post.csv')\n",
    "teams_df = pd.read_csv('../data/teams.csv')\n",
    "\n",
    "dfs = [awards_players_df, coaches_df, players_teams_df, players_df, series_post_df, teams_post_df, teams_df]"
   ]
  },
  {
   "cell_type": "markdown",
   "metadata": {},
   "source": [
    "# Clean data"
   ]
  },
  {
   "cell_type": "markdown",
   "metadata": {},
   "source": [
    "### Remove duplicates\n"
   ]
  },
  {
   "cell_type": "code",
   "execution_count": null,
   "metadata": {},
   "outputs": [],
   "source": [
    "for df in dfs:\n",
    "    df.drop_duplicates()"
   ]
  },
  {
   "cell_type": "markdown",
   "metadata": {},
   "source": [
    "### Drop single value columns"
   ]
  },
  {
   "cell_type": "code",
   "execution_count": null,
   "metadata": {},
   "outputs": [],
   "source": [
    "def drop_single_value_columns(df):\n",
    "    for column in df.columns:\n",
    "        if len(df[column].unique()) == 1:\n",
    "            df.drop(column, axis=1, inplace=True)\n",
    "\n",
    "for df in dfs:\n",
    "    drop_single_value_columns(df)"
   ]
  },
  {
   "cell_type": "markdown",
   "metadata": {},
   "source": [
    "### Rename columns"
   ]
  },
  {
   "cell_type": "code",
   "execution_count": null,
   "metadata": {},
   "outputs": [],
   "source": [
    "players_df.rename(columns={'bioID': 'playerID'}, inplace=True)\n",
    "coaches_df.rename(columns={'won': 'coach_wins'}, inplace=True)\n",
    "coaches_df.rename(columns={'lost': 'coach_losses'}, inplace=True)\n",
    "coaches_df.rename(columns={'post_wins': 'coach_post_wins'}, inplace=True)\n",
    "coaches_df.rename(columns={'post_losses': 'coach_post_losses'}, inplace=True)\n",
    "teams_post_df.rename(columns={'W': 'team_post_wins'}, inplace=True)\n",
    "teams_post_df.rename(columns={'L': 'team_post_losses'}, inplace=True)"
   ]
  },
  {
   "cell_type": "markdown",
   "metadata": {},
   "source": [
    "# Merge relevant data"
   ]
  },
  {
   "cell_type": "code",
   "execution_count": null,
   "metadata": {},
   "outputs": [],
   "source": [
    "# Merge teams_df with coaches_df\n",
    "main_df = pd.merge(teams_df, coaches_df, on=['year', 'tmID'], how='left')\n",
    "\n",
    "# Merge teams_df with teams_post_df\n",
    "main_df = pd.merge(main_df, teams_post_df, on=['year', 'tmID'], how='left')\n",
    "\n",
    "# Merge with players_teams_df\n",
    "main_df = pd.merge(main_df, players_teams_df, on=['year', 'tmID'], how='left')\n",
    "\n",
    "# Merge with awards_players_df\n",
    "main_df = pd.merge(main_df, awards_players_df, on=['playerID','year'], how='left')\n",
    "\n",
    "# Merge with players_df\n",
    "main_df = pd.merge(main_df, players_df, on=['playerID'], how='left')\n",
    "\n",
    "# Display the resulting merged data frame\n",
    "main_df.head()"
   ]
  },
  {
   "cell_type": "markdown",
   "metadata": {},
   "source": [
    "# Drop irrelevant columns\n",
    "### After merging"
   ]
  },
  {
   "cell_type": "code",
   "execution_count": null,
   "metadata": {},
   "outputs": [],
   "source": [
    "main_df = main_df.drop([\"rank\", \"firstRound\", \"semis\", \"finals\", \"attend\", \"stint_x\", \"stint_y\", \"deathdate\", \"height\", \"weight\"], axis=1)"
   ]
  },
  {
   "cell_type": "markdown",
   "metadata": {},
   "source": [
    "# Export clean data to a .CSV file"
   ]
  },
  {
   "cell_type": "code",
   "execution_count": null,
   "metadata": {},
   "outputs": [],
   "source": [
    "main_df.to_csv(\"../data/clean/main_df.csv\", index=False)\n",
    "main_df.head()"
   ]
  },
  {
   "cell_type": "markdown",
   "metadata": {},
   "source": [
    "### Information about the resulting dataset"
   ]
  },
  {
   "cell_type": "code",
   "execution_count": null,
   "metadata": {},
   "outputs": [],
   "source": [
    "main_df.info()\n",
    "main_df.describe()"
   ]
  }
 ],
 "metadata": {
  "kernelspec": {
   "display_name": "Python 3",
   "language": "python",
   "name": "python3"
  },
  "language_info": {
   "codemirror_mode": {
    "name": "ipython",
    "version": 3
   },
   "file_extension": ".py",
   "mimetype": "text/x-python",
   "name": "python",
   "nbconvert_exporter": "python",
   "pygments_lexer": "ipython3",
   "version": "3.11.5"
  },
  "orig_nbformat": 4
 },
 "nbformat": 4,
 "nbformat_minor": 2
}
