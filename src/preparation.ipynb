{
 "cells": [
  {
   "cell_type": "code",
   "execution_count": 129,
   "metadata": {},
   "outputs": [],
   "source": [
    "import pandas as pd"
   ]
  },
  {
   "cell_type": "markdown",
   "metadata": {},
   "source": [
    "# Load data"
   ]
  },
  {
   "cell_type": "code",
   "execution_count": 130,
   "metadata": {},
   "outputs": [],
   "source": [
    "awards_players_df = pd.read_csv('../data/awards_players.csv'); awards_players_df.Name = \"awards_players\"\n",
    "coaches_df = pd.read_csv('../data/coaches.csv'); coaches_df.Name = \"coaches\"\n",
    "players_teams_df = pd.read_csv('../data/players_teams.csv'); players_teams_df.Name = \"players_teams\"\n",
    "players_df = pd.read_csv('../data/players.csv'); players_df.Name = \"players\"\n",
    "series_post_df = pd.read_csv('../data/series_post.csv'); series_post_df.Name = \"series_post\"\n",
    "teams_post_df = pd.read_csv('../data/teams_post.csv'); teams_post_df.Name = \"teams_post\"\n",
    "teams_df = pd.read_csv('../data/teams.csv'); teams_df.Name = \"teams\"\n",
    "\n",
    "dfs = [awards_players_df, coaches_df, players_teams_df, players_df, series_post_df, teams_post_df, teams_df]"
   ]
  },
  {
   "cell_type": "markdown",
   "metadata": {},
   "source": [
    "# Clean data"
   ]
  },
  {
   "cell_type": "markdown",
   "metadata": {},
   "source": [
    "### Drop noisy data"
   ]
  },
  {
   "cell_type": "code",
   "execution_count": 131,
   "metadata": {},
   "outputs": [],
   "source": [
    "players_df.drop(players_df[players_df['height'] <= 0].index, inplace = True)"
   ]
  },
  {
   "cell_type": "markdown",
   "metadata": {},
   "source": [
    "### Remove duplicates\n"
   ]
  },
  {
   "cell_type": "code",
   "execution_count": 132,
   "metadata": {},
   "outputs": [
    {
     "data": {
      "text/plain": [
       "'Dropping dupplicates from dataframe awards_players...'"
      ]
     },
     "metadata": {},
     "output_type": "display_data"
    },
    {
     "data": {
      "text/plain": [
       "'Dropping dupplicates from dataframe coaches...'"
      ]
     },
     "metadata": {},
     "output_type": "display_data"
    },
    {
     "data": {
      "text/plain": [
       "'Dropping dupplicates from dataframe players_teams...'"
      ]
     },
     "metadata": {},
     "output_type": "display_data"
    },
    {
     "data": {
      "text/plain": [
       "'Dropping dupplicates from dataframe players...'"
      ]
     },
     "metadata": {},
     "output_type": "display_data"
    },
    {
     "data": {
      "text/plain": [
       "'Dropping dupplicates from dataframe series_post...'"
      ]
     },
     "metadata": {},
     "output_type": "display_data"
    },
    {
     "data": {
      "text/plain": [
       "'Dropping dupplicates from dataframe teams_post...'"
      ]
     },
     "metadata": {},
     "output_type": "display_data"
    },
    {
     "data": {
      "text/plain": [
       "'Dropping dupplicates from dataframe teams...'"
      ]
     },
     "metadata": {},
     "output_type": "display_data"
    }
   ],
   "source": [
    "for df in dfs:\n",
    "    df.drop_duplicates(inplace=True)\n",
    "    display(f\"Dropping dupplicates from dataframe {df.Name}...\")"
   ]
  },
  {
   "cell_type": "markdown",
   "metadata": {},
   "source": [
    "### Drop unneeded columns"
   ]
  },
  {
   "cell_type": "code",
   "execution_count": 133,
   "metadata": {},
   "outputs": [],
   "source": [
    "players_df.drop(['birthDate', 'deathDate', 'collegeOther'], axis=1, inplace=True)\n",
    "teams_df.drop([\"confID\", \"franchID\", \"rank\", \"firstRound\", \"semis\", \"finals\", \"attend\", \"name\", \"arena\"], axis=1, inplace=True);\n",
    "teams_post_df.drop([], axis=1, inplace=True)\n",
    "series_post_df.drop([], axis=1, inplace=True)\n",
    "players_teams_df.drop([], axis=1, inplace=True)\n",
    "awards_players_df.drop(['award'], axis=1, inplace=True)\n",
    "coaches_df.drop([], axis=1, inplace=True)"
   ]
  },
  {
   "cell_type": "markdown",
   "metadata": {},
   "source": [
    "### Drop single value columns"
   ]
  },
  {
   "cell_type": "code",
   "execution_count": 134,
   "metadata": {},
   "outputs": [
    {
     "data": {
      "text/plain": [
       "'Dropping column lgID from datarame awards_players'"
      ]
     },
     "metadata": {},
     "output_type": "display_data"
    },
    {
     "data": {
      "text/plain": [
       "'Dropping column lgID from datarame coaches'"
      ]
     },
     "metadata": {},
     "output_type": "display_data"
    },
    {
     "data": {
      "text/plain": [
       "'Dropping column lgID from datarame players_teams'"
      ]
     },
     "metadata": {},
     "output_type": "display_data"
    },
    {
     "data": {
      "text/plain": [
       "'Dropping column firstseason from datarame players'"
      ]
     },
     "metadata": {},
     "output_type": "display_data"
    },
    {
     "data": {
      "text/plain": [
       "'Dropping column lastseason from datarame players'"
      ]
     },
     "metadata": {},
     "output_type": "display_data"
    },
    {
     "data": {
      "text/plain": [
       "'Dropping column lgIDWinner from datarame series_post'"
      ]
     },
     "metadata": {},
     "output_type": "display_data"
    },
    {
     "data": {
      "text/plain": [
       "'Dropping column lgIDLoser from datarame series_post'"
      ]
     },
     "metadata": {},
     "output_type": "display_data"
    },
    {
     "data": {
      "text/plain": [
       "'Dropping column lgID from datarame teams_post'"
      ]
     },
     "metadata": {},
     "output_type": "display_data"
    },
    {
     "data": {
      "text/plain": [
       "'Dropping column lgID from datarame teams'"
      ]
     },
     "metadata": {},
     "output_type": "display_data"
    },
    {
     "data": {
      "text/plain": [
       "'Dropping column divID from datarame teams'"
      ]
     },
     "metadata": {},
     "output_type": "display_data"
    },
    {
     "data": {
      "text/plain": [
       "'Dropping column seeded from datarame teams'"
      ]
     },
     "metadata": {},
     "output_type": "display_data"
    },
    {
     "data": {
      "text/plain": [
       "'Dropping column tmORB from datarame teams'"
      ]
     },
     "metadata": {},
     "output_type": "display_data"
    },
    {
     "data": {
      "text/plain": [
       "'Dropping column tmDRB from datarame teams'"
      ]
     },
     "metadata": {},
     "output_type": "display_data"
    },
    {
     "data": {
      "text/plain": [
       "'Dropping column tmTRB from datarame teams'"
      ]
     },
     "metadata": {},
     "output_type": "display_data"
    },
    {
     "data": {
      "text/plain": [
       "'Dropping column opptmORB from datarame teams'"
      ]
     },
     "metadata": {},
     "output_type": "display_data"
    },
    {
     "data": {
      "text/plain": [
       "'Dropping column opptmDRB from datarame teams'"
      ]
     },
     "metadata": {},
     "output_type": "display_data"
    },
    {
     "data": {
      "text/plain": [
       "'Dropping column opptmTRB from datarame teams'"
      ]
     },
     "metadata": {},
     "output_type": "display_data"
    }
   ],
   "source": [
    "def drop_single_value_columns(df):\n",
    "    for column in df.columns:\n",
    "        if len(df[column].unique()) == 1:\n",
    "            display(f\"Dropping column {column} from datarame {df.Name}\")\n",
    "\n",
    "            df.drop(column, axis=1, inplace=True)\n",
    "\n",
    "for df in dfs:\n",
    "    drop_single_value_columns(df)"
   ]
  },
  {
   "cell_type": "markdown",
   "metadata": {},
   "source": [
    "### Rename columns"
   ]
  },
  {
   "cell_type": "code",
   "execution_count": 135,
   "metadata": {},
   "outputs": [],
   "source": [
    "players_df.rename(columns={'bioID': 'playerID', 'stint': 'player_stint'}, inplace=True)\n",
    "\n",
    "coaches_df.rename(columns={'won': 'coach_wins', 'lost': 'coach_losses', 'post_wins': 'coach_post_wins', 'post_losses': 'coach_post_losses', 'stint': 'coach_stint'}, inplace=True)\n",
    "\n",
    "teams_df.rename(columns={'GP': 'team_GP'}, inplace=True)\n",
    "\n",
    "players_teams_df.rename(columns={'GP': 'player_team_GP'}, inplace=True)\n",
    "\n",
    "teams_post_df.rename(columns={'W': 'team_post_wins', 'L': 'team_post_losses'}, inplace=True)\n",
    "\n",
    "series_post_df.rename(columns={'W': 'series_post_wins', 'L': 'series_post_lost'}, inplace=True)"
   ]
  },
  {
   "cell_type": "markdown",
   "metadata": {},
   "source": [
    "# Merge relevant data"
   ]
  },
  {
   "cell_type": "code",
   "execution_count": 136,
   "metadata": {},
   "outputs": [
    {
     "data": {
      "text/html": [
       "<div>\n",
       "<style scoped>\n",
       "    .dataframe tbody tr th:only-of-type {\n",
       "        vertical-align: middle;\n",
       "    }\n",
       "\n",
       "    .dataframe tbody tr th {\n",
       "        vertical-align: top;\n",
       "    }\n",
       "\n",
       "    .dataframe thead th {\n",
       "        text-align: right;\n",
       "    }\n",
       "</style>\n",
       "<table border=\"1\" class=\"dataframe\">\n",
       "  <thead>\n",
       "    <tr style=\"text-align: right;\">\n",
       "      <th></th>\n",
       "      <th>year</th>\n",
       "      <th>tmID</th>\n",
       "      <th>franchID</th>\n",
       "      <th>playoff</th>\n",
       "      <th>o_fgm</th>\n",
       "      <th>o_fga</th>\n",
       "      <th>o_ftm</th>\n",
       "      <th>o_fta</th>\n",
       "      <th>o_3pm</th>\n",
       "      <th>o_3pa</th>\n",
       "      <th>...</th>\n",
       "      <th>PostfgMade</th>\n",
       "      <th>PostftAttempted</th>\n",
       "      <th>PostftMade</th>\n",
       "      <th>PostthreeAttempted</th>\n",
       "      <th>PostthreeMade</th>\n",
       "      <th>PostDQ</th>\n",
       "      <th>pos</th>\n",
       "      <th>height</th>\n",
       "      <th>weight</th>\n",
       "      <th>college</th>\n",
       "    </tr>\n",
       "  </thead>\n",
       "  <tbody>\n",
       "    <tr>\n",
       "      <th>0</th>\n",
       "      <td>9</td>\n",
       "      <td>ATL</td>\n",
       "      <td>ATL</td>\n",
       "      <td>N</td>\n",
       "      <td>895</td>\n",
       "      <td>2258</td>\n",
       "      <td>542</td>\n",
       "      <td>725</td>\n",
       "      <td>202</td>\n",
       "      <td>598</td>\n",
       "      <td>...</td>\n",
       "      <td>0</td>\n",
       "      <td>0</td>\n",
       "      <td>0</td>\n",
       "      <td>0</td>\n",
       "      <td>0</td>\n",
       "      <td>0</td>\n",
       "      <td>C</td>\n",
       "      <td>79.0</td>\n",
       "      <td>218</td>\n",
       "      <td>Duke</td>\n",
       "    </tr>\n",
       "    <tr>\n",
       "      <th>1</th>\n",
       "      <td>9</td>\n",
       "      <td>ATL</td>\n",
       "      <td>ATL</td>\n",
       "      <td>N</td>\n",
       "      <td>895</td>\n",
       "      <td>2258</td>\n",
       "      <td>542</td>\n",
       "      <td>725</td>\n",
       "      <td>202</td>\n",
       "      <td>598</td>\n",
       "      <td>...</td>\n",
       "      <td>0</td>\n",
       "      <td>0</td>\n",
       "      <td>0</td>\n",
       "      <td>0</td>\n",
       "      <td>0</td>\n",
       "      <td>0</td>\n",
       "      <td>F-G</td>\n",
       "      <td>72.0</td>\n",
       "      <td>140</td>\n",
       "      <td>NaN</td>\n",
       "    </tr>\n",
       "    <tr>\n",
       "      <th>2</th>\n",
       "      <td>9</td>\n",
       "      <td>ATL</td>\n",
       "      <td>ATL</td>\n",
       "      <td>N</td>\n",
       "      <td>895</td>\n",
       "      <td>2258</td>\n",
       "      <td>542</td>\n",
       "      <td>725</td>\n",
       "      <td>202</td>\n",
       "      <td>598</td>\n",
       "      <td>...</td>\n",
       "      <td>0</td>\n",
       "      <td>0</td>\n",
       "      <td>0</td>\n",
       "      <td>0</td>\n",
       "      <td>0</td>\n",
       "      <td>0</td>\n",
       "      <td>F-C</td>\n",
       "      <td>77.0</td>\n",
       "      <td>190</td>\n",
       "      <td>NaN</td>\n",
       "    </tr>\n",
       "    <tr>\n",
       "      <th>3</th>\n",
       "      <td>9</td>\n",
       "      <td>ATL</td>\n",
       "      <td>ATL</td>\n",
       "      <td>N</td>\n",
       "      <td>895</td>\n",
       "      <td>2258</td>\n",
       "      <td>542</td>\n",
       "      <td>725</td>\n",
       "      <td>202</td>\n",
       "      <td>598</td>\n",
       "      <td>...</td>\n",
       "      <td>0</td>\n",
       "      <td>0</td>\n",
       "      <td>0</td>\n",
       "      <td>0</td>\n",
       "      <td>0</td>\n",
       "      <td>0</td>\n",
       "      <td>G</td>\n",
       "      <td>69.0</td>\n",
       "      <td>147</td>\n",
       "      <td>Michigan State</td>\n",
       "    </tr>\n",
       "    <tr>\n",
       "      <th>4</th>\n",
       "      <td>9</td>\n",
       "      <td>ATL</td>\n",
       "      <td>ATL</td>\n",
       "      <td>N</td>\n",
       "      <td>895</td>\n",
       "      <td>2258</td>\n",
       "      <td>542</td>\n",
       "      <td>725</td>\n",
       "      <td>202</td>\n",
       "      <td>598</td>\n",
       "      <td>...</td>\n",
       "      <td>0</td>\n",
       "      <td>0</td>\n",
       "      <td>0</td>\n",
       "      <td>0</td>\n",
       "      <td>0</td>\n",
       "      <td>0</td>\n",
       "      <td>F</td>\n",
       "      <td>75.0</td>\n",
       "      <td>175</td>\n",
       "      <td>Pepperdine</td>\n",
       "    </tr>\n",
       "  </tbody>\n",
       "</table>\n",
       "<p>5 rows × 96 columns</p>\n",
       "</div>"
      ],
      "text/plain": [
       "   year tmID franchID playoff  o_fgm  o_fga  o_ftm  o_fta  o_3pm  o_3pa  ...   \n",
       "0     9  ATL      ATL       N    895   2258    542    725    202    598  ...  \\\n",
       "1     9  ATL      ATL       N    895   2258    542    725    202    598  ...   \n",
       "2     9  ATL      ATL       N    895   2258    542    725    202    598  ...   \n",
       "3     9  ATL      ATL       N    895   2258    542    725    202    598  ...   \n",
       "4     9  ATL      ATL       N    895   2258    542    725    202    598  ...   \n",
       "\n",
       "   PostfgMade  PostftAttempted  PostftMade  PostthreeAttempted  PostthreeMade   \n",
       "0           0                0           0                   0              0  \\\n",
       "1           0                0           0                   0              0   \n",
       "2           0                0           0                   0              0   \n",
       "3           0                0           0                   0              0   \n",
       "4           0                0           0                   0              0   \n",
       "\n",
       "   PostDQ  pos  height  weight         college  \n",
       "0       0    C    79.0     218            Duke  \n",
       "1       0  F-G    72.0     140             NaN  \n",
       "2       0  F-C    77.0     190             NaN  \n",
       "3       0    G    69.0     147  Michigan State  \n",
       "4       0    F    75.0     175      Pepperdine  \n",
       "\n",
       "[5 rows x 96 columns]"
      ]
     },
     "execution_count": 136,
     "metadata": {},
     "output_type": "execute_result"
    }
   ],
   "source": [
    "# Merge teams_df with coaches_df\n",
    "main_df = pd.merge(teams_df, coaches_df, on=['year', 'tmID'], how='left')\n",
    "\n",
    "# Merge teams_df with teams_post_df\n",
    "main_df = pd.merge(main_df, teams_post_df, on=['year', 'tmID'], how='left')\n",
    "\n",
    "# Merge with players_teams_df\n",
    "main_df = pd.merge(main_df, players_teams_df, on=['year', 'tmID'], how='left')\n",
    "\n",
    "# Merge with awards_players_df\n",
    "main_df = pd.merge(main_df, awards_players_df, on=['playerID','year'], how='left')\n",
    "\n",
    "# Merge with players_df\n",
    "main_df = pd.merge(main_df, players_df, on=['playerID'], how='left')\n",
    "\n",
    "# Display the resulting merged data frame\n",
    "main_df.head()"
   ]
  },
  {
   "cell_type": "markdown",
   "metadata": {},
   "source": [
    "# Drop irrelevant columns\n",
    "### After merging"
   ]
  },
  {
   "cell_type": "code",
   "execution_count": 137,
   "metadata": {},
   "outputs": [],
   "source": [
    "# main_df = main_df.drop([\"rank\", \"firstRound\", \"semis\", \"finals\", \"attend\", \"stint_x\", \"stint_y\", \"birthDate\", \"deathDate\", \"height\", \"weight\", \"award\"], axis=1)"
   ]
  },
  {
   "cell_type": "markdown",
   "metadata": {},
   "source": [
    "# Export clean data to a .CSV file"
   ]
  },
  {
   "cell_type": "code",
   "execution_count": 138,
   "metadata": {},
   "outputs": [
    {
     "data": {
      "text/html": [
       "<div>\n",
       "<style scoped>\n",
       "    .dataframe tbody tr th:only-of-type {\n",
       "        vertical-align: middle;\n",
       "    }\n",
       "\n",
       "    .dataframe tbody tr th {\n",
       "        vertical-align: top;\n",
       "    }\n",
       "\n",
       "    .dataframe thead th {\n",
       "        text-align: right;\n",
       "    }\n",
       "</style>\n",
       "<table border=\"1\" class=\"dataframe\">\n",
       "  <thead>\n",
       "    <tr style=\"text-align: right;\">\n",
       "      <th></th>\n",
       "      <th>year</th>\n",
       "      <th>tmID</th>\n",
       "      <th>franchID</th>\n",
       "      <th>playoff</th>\n",
       "      <th>o_fgm</th>\n",
       "      <th>o_fga</th>\n",
       "      <th>o_ftm</th>\n",
       "      <th>o_fta</th>\n",
       "      <th>o_3pm</th>\n",
       "      <th>o_3pa</th>\n",
       "      <th>...</th>\n",
       "      <th>PostfgMade</th>\n",
       "      <th>PostftAttempted</th>\n",
       "      <th>PostftMade</th>\n",
       "      <th>PostthreeAttempted</th>\n",
       "      <th>PostthreeMade</th>\n",
       "      <th>PostDQ</th>\n",
       "      <th>pos</th>\n",
       "      <th>height</th>\n",
       "      <th>weight</th>\n",
       "      <th>college</th>\n",
       "    </tr>\n",
       "  </thead>\n",
       "  <tbody>\n",
       "    <tr>\n",
       "      <th>0</th>\n",
       "      <td>9</td>\n",
       "      <td>ATL</td>\n",
       "      <td>ATL</td>\n",
       "      <td>N</td>\n",
       "      <td>895</td>\n",
       "      <td>2258</td>\n",
       "      <td>542</td>\n",
       "      <td>725</td>\n",
       "      <td>202</td>\n",
       "      <td>598</td>\n",
       "      <td>...</td>\n",
       "      <td>0</td>\n",
       "      <td>0</td>\n",
       "      <td>0</td>\n",
       "      <td>0</td>\n",
       "      <td>0</td>\n",
       "      <td>0</td>\n",
       "      <td>C</td>\n",
       "      <td>79.0</td>\n",
       "      <td>218</td>\n",
       "      <td>Duke</td>\n",
       "    </tr>\n",
       "    <tr>\n",
       "      <th>1</th>\n",
       "      <td>9</td>\n",
       "      <td>ATL</td>\n",
       "      <td>ATL</td>\n",
       "      <td>N</td>\n",
       "      <td>895</td>\n",
       "      <td>2258</td>\n",
       "      <td>542</td>\n",
       "      <td>725</td>\n",
       "      <td>202</td>\n",
       "      <td>598</td>\n",
       "      <td>...</td>\n",
       "      <td>0</td>\n",
       "      <td>0</td>\n",
       "      <td>0</td>\n",
       "      <td>0</td>\n",
       "      <td>0</td>\n",
       "      <td>0</td>\n",
       "      <td>F-G</td>\n",
       "      <td>72.0</td>\n",
       "      <td>140</td>\n",
       "      <td>NaN</td>\n",
       "    </tr>\n",
       "    <tr>\n",
       "      <th>2</th>\n",
       "      <td>9</td>\n",
       "      <td>ATL</td>\n",
       "      <td>ATL</td>\n",
       "      <td>N</td>\n",
       "      <td>895</td>\n",
       "      <td>2258</td>\n",
       "      <td>542</td>\n",
       "      <td>725</td>\n",
       "      <td>202</td>\n",
       "      <td>598</td>\n",
       "      <td>...</td>\n",
       "      <td>0</td>\n",
       "      <td>0</td>\n",
       "      <td>0</td>\n",
       "      <td>0</td>\n",
       "      <td>0</td>\n",
       "      <td>0</td>\n",
       "      <td>F-C</td>\n",
       "      <td>77.0</td>\n",
       "      <td>190</td>\n",
       "      <td>NaN</td>\n",
       "    </tr>\n",
       "    <tr>\n",
       "      <th>3</th>\n",
       "      <td>9</td>\n",
       "      <td>ATL</td>\n",
       "      <td>ATL</td>\n",
       "      <td>N</td>\n",
       "      <td>895</td>\n",
       "      <td>2258</td>\n",
       "      <td>542</td>\n",
       "      <td>725</td>\n",
       "      <td>202</td>\n",
       "      <td>598</td>\n",
       "      <td>...</td>\n",
       "      <td>0</td>\n",
       "      <td>0</td>\n",
       "      <td>0</td>\n",
       "      <td>0</td>\n",
       "      <td>0</td>\n",
       "      <td>0</td>\n",
       "      <td>G</td>\n",
       "      <td>69.0</td>\n",
       "      <td>147</td>\n",
       "      <td>Michigan State</td>\n",
       "    </tr>\n",
       "    <tr>\n",
       "      <th>4</th>\n",
       "      <td>9</td>\n",
       "      <td>ATL</td>\n",
       "      <td>ATL</td>\n",
       "      <td>N</td>\n",
       "      <td>895</td>\n",
       "      <td>2258</td>\n",
       "      <td>542</td>\n",
       "      <td>725</td>\n",
       "      <td>202</td>\n",
       "      <td>598</td>\n",
       "      <td>...</td>\n",
       "      <td>0</td>\n",
       "      <td>0</td>\n",
       "      <td>0</td>\n",
       "      <td>0</td>\n",
       "      <td>0</td>\n",
       "      <td>0</td>\n",
       "      <td>F</td>\n",
       "      <td>75.0</td>\n",
       "      <td>175</td>\n",
       "      <td>Pepperdine</td>\n",
       "    </tr>\n",
       "    <tr>\n",
       "      <th>5</th>\n",
       "      <td>9</td>\n",
       "      <td>ATL</td>\n",
       "      <td>ATL</td>\n",
       "      <td>N</td>\n",
       "      <td>895</td>\n",
       "      <td>2258</td>\n",
       "      <td>542</td>\n",
       "      <td>725</td>\n",
       "      <td>202</td>\n",
       "      <td>598</td>\n",
       "      <td>...</td>\n",
       "      <td>0</td>\n",
       "      <td>0</td>\n",
       "      <td>0</td>\n",
       "      <td>0</td>\n",
       "      <td>0</td>\n",
       "      <td>0</td>\n",
       "      <td>G</td>\n",
       "      <td>66.0</td>\n",
       "      <td>143</td>\n",
       "      <td>North Carolina</td>\n",
       "    </tr>\n",
       "    <tr>\n",
       "      <th>6</th>\n",
       "      <td>9</td>\n",
       "      <td>ATL</td>\n",
       "      <td>ATL</td>\n",
       "      <td>N</td>\n",
       "      <td>895</td>\n",
       "      <td>2258</td>\n",
       "      <td>542</td>\n",
       "      <td>725</td>\n",
       "      <td>202</td>\n",
       "      <td>598</td>\n",
       "      <td>...</td>\n",
       "      <td>0</td>\n",
       "      <td>0</td>\n",
       "      <td>0</td>\n",
       "      <td>0</td>\n",
       "      <td>0</td>\n",
       "      <td>0</td>\n",
       "      <td>G</td>\n",
       "      <td>68.0</td>\n",
       "      <td>143</td>\n",
       "      <td>Louisiana Tech</td>\n",
       "    </tr>\n",
       "    <tr>\n",
       "      <th>7</th>\n",
       "      <td>9</td>\n",
       "      <td>ATL</td>\n",
       "      <td>ATL</td>\n",
       "      <td>N</td>\n",
       "      <td>895</td>\n",
       "      <td>2258</td>\n",
       "      <td>542</td>\n",
       "      <td>725</td>\n",
       "      <td>202</td>\n",
       "      <td>598</td>\n",
       "      <td>...</td>\n",
       "      <td>0</td>\n",
       "      <td>0</td>\n",
       "      <td>0</td>\n",
       "      <td>0</td>\n",
       "      <td>0</td>\n",
       "      <td>0</td>\n",
       "      <td>F</td>\n",
       "      <td>74.0</td>\n",
       "      <td>180</td>\n",
       "      <td>North Carolina</td>\n",
       "    </tr>\n",
       "    <tr>\n",
       "      <th>8</th>\n",
       "      <td>9</td>\n",
       "      <td>ATL</td>\n",
       "      <td>ATL</td>\n",
       "      <td>N</td>\n",
       "      <td>895</td>\n",
       "      <td>2258</td>\n",
       "      <td>542</td>\n",
       "      <td>725</td>\n",
       "      <td>202</td>\n",
       "      <td>598</td>\n",
       "      <td>...</td>\n",
       "      <td>0</td>\n",
       "      <td>0</td>\n",
       "      <td>0</td>\n",
       "      <td>0</td>\n",
       "      <td>0</td>\n",
       "      <td>0</td>\n",
       "      <td>F</td>\n",
       "      <td>76.0</td>\n",
       "      <td>170</td>\n",
       "      <td>Purdue</td>\n",
       "    </tr>\n",
       "    <tr>\n",
       "      <th>9</th>\n",
       "      <td>9</td>\n",
       "      <td>ATL</td>\n",
       "      <td>ATL</td>\n",
       "      <td>N</td>\n",
       "      <td>895</td>\n",
       "      <td>2258</td>\n",
       "      <td>542</td>\n",
       "      <td>725</td>\n",
       "      <td>202</td>\n",
       "      <td>598</td>\n",
       "      <td>...</td>\n",
       "      <td>0</td>\n",
       "      <td>0</td>\n",
       "      <td>0</td>\n",
       "      <td>0</td>\n",
       "      <td>0</td>\n",
       "      <td>0</td>\n",
       "      <td>F</td>\n",
       "      <td>73.0</td>\n",
       "      <td>185</td>\n",
       "      <td>UC Santa Barbara</td>\n",
       "    </tr>\n",
       "    <tr>\n",
       "      <th>10</th>\n",
       "      <td>9</td>\n",
       "      <td>ATL</td>\n",
       "      <td>ATL</td>\n",
       "      <td>N</td>\n",
       "      <td>895</td>\n",
       "      <td>2258</td>\n",
       "      <td>542</td>\n",
       "      <td>725</td>\n",
       "      <td>202</td>\n",
       "      <td>598</td>\n",
       "      <td>...</td>\n",
       "      <td>0</td>\n",
       "      <td>0</td>\n",
       "      <td>0</td>\n",
       "      <td>0</td>\n",
       "      <td>0</td>\n",
       "      <td>0</td>\n",
       "      <td>G</td>\n",
       "      <td>72.0</td>\n",
       "      <td>156</td>\n",
       "      <td>Georgia Tech</td>\n",
       "    </tr>\n",
       "    <tr>\n",
       "      <th>11</th>\n",
       "      <td>9</td>\n",
       "      <td>ATL</td>\n",
       "      <td>ATL</td>\n",
       "      <td>N</td>\n",
       "      <td>895</td>\n",
       "      <td>2258</td>\n",
       "      <td>542</td>\n",
       "      <td>725</td>\n",
       "      <td>202</td>\n",
       "      <td>598</td>\n",
       "      <td>...</td>\n",
       "      <td>0</td>\n",
       "      <td>0</td>\n",
       "      <td>0</td>\n",
       "      <td>0</td>\n",
       "      <td>0</td>\n",
       "      <td>0</td>\n",
       "      <td>G-F</td>\n",
       "      <td>75.0</td>\n",
       "      <td>166</td>\n",
       "      <td>Connecticut</td>\n",
       "    </tr>\n",
       "    <tr>\n",
       "      <th>12</th>\n",
       "      <td>9</td>\n",
       "      <td>ATL</td>\n",
       "      <td>ATL</td>\n",
       "      <td>N</td>\n",
       "      <td>895</td>\n",
       "      <td>2258</td>\n",
       "      <td>542</td>\n",
       "      <td>725</td>\n",
       "      <td>202</td>\n",
       "      <td>598</td>\n",
       "      <td>...</td>\n",
       "      <td>0</td>\n",
       "      <td>0</td>\n",
       "      <td>0</td>\n",
       "      <td>0</td>\n",
       "      <td>0</td>\n",
       "      <td>0</td>\n",
       "      <td>C-F</td>\n",
       "      <td>75.0</td>\n",
       "      <td>183</td>\n",
       "      <td>Georgia Tech</td>\n",
       "    </tr>\n",
       "    <tr>\n",
       "      <th>13</th>\n",
       "      <td>9</td>\n",
       "      <td>ATL</td>\n",
       "      <td>ATL</td>\n",
       "      <td>N</td>\n",
       "      <td>895</td>\n",
       "      <td>2258</td>\n",
       "      <td>542</td>\n",
       "      <td>725</td>\n",
       "      <td>202</td>\n",
       "      <td>598</td>\n",
       "      <td>...</td>\n",
       "      <td>0</td>\n",
       "      <td>0</td>\n",
       "      <td>0</td>\n",
       "      <td>0</td>\n",
       "      <td>0</td>\n",
       "      <td>0</td>\n",
       "      <td>F</td>\n",
       "      <td>74.0</td>\n",
       "      <td>166</td>\n",
       "      <td>James Madison</td>\n",
       "    </tr>\n",
       "    <tr>\n",
       "      <th>14</th>\n",
       "      <td>10</td>\n",
       "      <td>ATL</td>\n",
       "      <td>ATL</td>\n",
       "      <td>Y</td>\n",
       "      <td>1089</td>\n",
       "      <td>2428</td>\n",
       "      <td>569</td>\n",
       "      <td>755</td>\n",
       "      <td>114</td>\n",
       "      <td>374</td>\n",
       "      <td>...</td>\n",
       "      <td>8</td>\n",
       "      <td>17</td>\n",
       "      <td>12</td>\n",
       "      <td>8</td>\n",
       "      <td>4</td>\n",
       "      <td>0</td>\n",
       "      <td>F-G</td>\n",
       "      <td>72.0</td>\n",
       "      <td>140</td>\n",
       "      <td>NaN</td>\n",
       "    </tr>\n",
       "    <tr>\n",
       "      <th>15</th>\n",
       "      <td>10</td>\n",
       "      <td>ATL</td>\n",
       "      <td>ATL</td>\n",
       "      <td>Y</td>\n",
       "      <td>1089</td>\n",
       "      <td>2428</td>\n",
       "      <td>569</td>\n",
       "      <td>755</td>\n",
       "      <td>114</td>\n",
       "      <td>374</td>\n",
       "      <td>...</td>\n",
       "      <td>10</td>\n",
       "      <td>4</td>\n",
       "      <td>3</td>\n",
       "      <td>0</td>\n",
       "      <td>0</td>\n",
       "      <td>0</td>\n",
       "      <td>F-C</td>\n",
       "      <td>77.0</td>\n",
       "      <td>190</td>\n",
       "      <td>NaN</td>\n",
       "    </tr>\n",
       "    <tr>\n",
       "      <th>16</th>\n",
       "      <td>10</td>\n",
       "      <td>ATL</td>\n",
       "      <td>ATL</td>\n",
       "      <td>Y</td>\n",
       "      <td>1089</td>\n",
       "      <td>2428</td>\n",
       "      <td>569</td>\n",
       "      <td>755</td>\n",
       "      <td>114</td>\n",
       "      <td>374</td>\n",
       "      <td>...</td>\n",
       "      <td>1</td>\n",
       "      <td>1</td>\n",
       "      <td>1</td>\n",
       "      <td>1</td>\n",
       "      <td>0</td>\n",
       "      <td>0</td>\n",
       "      <td>F</td>\n",
       "      <td>74.0</td>\n",
       "      <td>172</td>\n",
       "      <td>Tennessee</td>\n",
       "    </tr>\n",
       "    <tr>\n",
       "      <th>17</th>\n",
       "      <td>10</td>\n",
       "      <td>ATL</td>\n",
       "      <td>ATL</td>\n",
       "      <td>Y</td>\n",
       "      <td>1089</td>\n",
       "      <td>2428</td>\n",
       "      <td>569</td>\n",
       "      <td>755</td>\n",
       "      <td>114</td>\n",
       "      <td>374</td>\n",
       "      <td>...</td>\n",
       "      <td>0</td>\n",
       "      <td>4</td>\n",
       "      <td>2</td>\n",
       "      <td>2</td>\n",
       "      <td>0</td>\n",
       "      <td>0</td>\n",
       "      <td>F</td>\n",
       "      <td>75.0</td>\n",
       "      <td>175</td>\n",
       "      <td>Pepperdine</td>\n",
       "    </tr>\n",
       "    <tr>\n",
       "      <th>18</th>\n",
       "      <td>10</td>\n",
       "      <td>ATL</td>\n",
       "      <td>ATL</td>\n",
       "      <td>Y</td>\n",
       "      <td>1089</td>\n",
       "      <td>2428</td>\n",
       "      <td>569</td>\n",
       "      <td>755</td>\n",
       "      <td>114</td>\n",
       "      <td>374</td>\n",
       "      <td>...</td>\n",
       "      <td>8</td>\n",
       "      <td>9</td>\n",
       "      <td>8</td>\n",
       "      <td>9</td>\n",
       "      <td>3</td>\n",
       "      <td>0</td>\n",
       "      <td>G</td>\n",
       "      <td>66.0</td>\n",
       "      <td>143</td>\n",
       "      <td>North Carolina</td>\n",
       "    </tr>\n",
       "    <tr>\n",
       "      <th>19</th>\n",
       "      <td>10</td>\n",
       "      <td>ATL</td>\n",
       "      <td>ATL</td>\n",
       "      <td>Y</td>\n",
       "      <td>1089</td>\n",
       "      <td>2428</td>\n",
       "      <td>569</td>\n",
       "      <td>755</td>\n",
       "      <td>114</td>\n",
       "      <td>374</td>\n",
       "      <td>...</td>\n",
       "      <td>0</td>\n",
       "      <td>0</td>\n",
       "      <td>0</td>\n",
       "      <td>0</td>\n",
       "      <td>0</td>\n",
       "      <td>0</td>\n",
       "      <td>G</td>\n",
       "      <td>69.0</td>\n",
       "      <td>147</td>\n",
       "      <td>Kansas State</td>\n",
       "    </tr>\n",
       "  </tbody>\n",
       "</table>\n",
       "<p>20 rows × 96 columns</p>\n",
       "</div>"
      ],
      "text/plain": [
       "    year tmID franchID playoff  o_fgm  o_fga  o_ftm  o_fta  o_3pm  o_3pa  ...   \n",
       "0      9  ATL      ATL       N    895   2258    542    725    202    598  ...  \\\n",
       "1      9  ATL      ATL       N    895   2258    542    725    202    598  ...   \n",
       "2      9  ATL      ATL       N    895   2258    542    725    202    598  ...   \n",
       "3      9  ATL      ATL       N    895   2258    542    725    202    598  ...   \n",
       "4      9  ATL      ATL       N    895   2258    542    725    202    598  ...   \n",
       "5      9  ATL      ATL       N    895   2258    542    725    202    598  ...   \n",
       "6      9  ATL      ATL       N    895   2258    542    725    202    598  ...   \n",
       "7      9  ATL      ATL       N    895   2258    542    725    202    598  ...   \n",
       "8      9  ATL      ATL       N    895   2258    542    725    202    598  ...   \n",
       "9      9  ATL      ATL       N    895   2258    542    725    202    598  ...   \n",
       "10     9  ATL      ATL       N    895   2258    542    725    202    598  ...   \n",
       "11     9  ATL      ATL       N    895   2258    542    725    202    598  ...   \n",
       "12     9  ATL      ATL       N    895   2258    542    725    202    598  ...   \n",
       "13     9  ATL      ATL       N    895   2258    542    725    202    598  ...   \n",
       "14    10  ATL      ATL       Y   1089   2428    569    755    114    374  ...   \n",
       "15    10  ATL      ATL       Y   1089   2428    569    755    114    374  ...   \n",
       "16    10  ATL      ATL       Y   1089   2428    569    755    114    374  ...   \n",
       "17    10  ATL      ATL       Y   1089   2428    569    755    114    374  ...   \n",
       "18    10  ATL      ATL       Y   1089   2428    569    755    114    374  ...   \n",
       "19    10  ATL      ATL       Y   1089   2428    569    755    114    374  ...   \n",
       "\n",
       "    PostfgMade  PostftAttempted  PostftMade  PostthreeAttempted   \n",
       "0            0                0           0                   0  \\\n",
       "1            0                0           0                   0   \n",
       "2            0                0           0                   0   \n",
       "3            0                0           0                   0   \n",
       "4            0                0           0                   0   \n",
       "5            0                0           0                   0   \n",
       "6            0                0           0                   0   \n",
       "7            0                0           0                   0   \n",
       "8            0                0           0                   0   \n",
       "9            0                0           0                   0   \n",
       "10           0                0           0                   0   \n",
       "11           0                0           0                   0   \n",
       "12           0                0           0                   0   \n",
       "13           0                0           0                   0   \n",
       "14           8               17          12                   8   \n",
       "15          10                4           3                   0   \n",
       "16           1                1           1                   1   \n",
       "17           0                4           2                   2   \n",
       "18           8                9           8                   9   \n",
       "19           0                0           0                   0   \n",
       "\n",
       "    PostthreeMade  PostDQ  pos  height  weight           college  \n",
       "0               0       0    C    79.0     218              Duke  \n",
       "1               0       0  F-G    72.0     140               NaN  \n",
       "2               0       0  F-C    77.0     190               NaN  \n",
       "3               0       0    G    69.0     147    Michigan State  \n",
       "4               0       0    F    75.0     175        Pepperdine  \n",
       "5               0       0    G    66.0     143    North Carolina  \n",
       "6               0       0    G    68.0     143    Louisiana Tech  \n",
       "7               0       0    F    74.0     180    North Carolina  \n",
       "8               0       0    F    76.0     170            Purdue  \n",
       "9               0       0    F    73.0     185  UC Santa Barbara  \n",
       "10              0       0    G    72.0     156      Georgia Tech  \n",
       "11              0       0  G-F    75.0     166       Connecticut  \n",
       "12              0       0  C-F    75.0     183      Georgia Tech  \n",
       "13              0       0    F    74.0     166     James Madison  \n",
       "14              4       0  F-G    72.0     140               NaN  \n",
       "15              0       0  F-C    77.0     190               NaN  \n",
       "16              0       0    F    74.0     172         Tennessee  \n",
       "17              0       0    F    75.0     175        Pepperdine  \n",
       "18              3       0    G    66.0     143    North Carolina  \n",
       "19              0       0    G    69.0     147      Kansas State  \n",
       "\n",
       "[20 rows x 96 columns]"
      ]
     },
     "execution_count": 138,
     "metadata": {},
     "output_type": "execute_result"
    }
   ],
   "source": [
    "main_df.to_csv(\"../data/clean/main_df.csv\", index=False)\n",
    "main_df.head(20)"
   ]
  },
  {
   "cell_type": "markdown",
   "metadata": {},
   "source": [
    "### Information about the resulting dataset"
   ]
  },
  {
   "cell_type": "code",
   "execution_count": 141,
   "metadata": {},
   "outputs": [
    {
     "name": "stdout",
     "output_type": "stream",
     "text": [
      "      year tmID franchID playoff  o_fgm  o_fga  o_ftm  o_fta  o_3pm  o_3pa   \n",
      "1284     1  ORL      CON       Y    833   1911    397    546    145    424  \\\n",
      "1285     1  ORL      CON       Y    833   1911    397    546    145    424   \n",
      "1286     1  ORL      CON       Y    833   1911    397    546    145    424   \n",
      "1287     1  ORL      CON       Y    833   1911    397    546    145    424   \n",
      "1288     1  ORL      CON       Y    833   1911    397    546    145    424   \n",
      "...    ...  ...      ...     ...    ...    ...    ...    ...    ...    ...   \n",
      "1976     3  UTA      SAS       Y    843   1911    643    844     89    247   \n",
      "1977     3  UTA      SAS       Y    843   1911    643    844     89    247   \n",
      "1978     3  UTA      SAS       Y    843   1911    643    844     89    247   \n",
      "1979     3  UTA      SAS       Y    843   1911    643    844     89    247   \n",
      "1980     3  UTA      SAS       Y    843   1911    643    844     89    247   \n",
      "\n",
      "      ...  PostfgMade  PostftAttempted  PostftMade  PostthreeAttempted   \n",
      "1284  ...           8                2           2                   0  \\\n",
      "1285  ...           0                0           0                   0   \n",
      "1286  ...           0                0           0                   0   \n",
      "1287  ...           0                0           0                   0   \n",
      "1288  ...          14                4           3                  10   \n",
      "...   ...         ...              ...         ...                 ...   \n",
      "1976  ...           1                0           0                   0   \n",
      "1977  ...           7                2           1                   9   \n",
      "1978  ...           8                5           4                   0   \n",
      "1979  ...           0                0           0                   0   \n",
      "1980  ...          25               28          19                   4   \n",
      "\n",
      "      PostthreeMade  PostDQ  pos  height  weight          college  \n",
      "1284              0       0    C    77.0     187              NaN  \n",
      "1285              0       0    G    69.0     150  Louisiana State  \n",
      "1286              0       0    G    69.0     152              NaN  \n",
      "1287              0       0  F-C    76.0     188         Maryland  \n",
      "1288              3       0    G    70.0     154       Ohio State  \n",
      "...             ...     ...  ...     ...     ...              ...  \n",
      "1976              0       0    C    76.0     189             Iowa  \n",
      "1977              2       0    F    73.0     150          Memphis  \n",
      "1978              0       0    G    69.0     164        Tennessee  \n",
      "1979              0       0    G    73.0     153         Stanford  \n",
      "1980              1       1  F-C    74.0     210             UCLA  \n",
      "\n",
      "[90 rows x 96 columns]\n"
     ]
    }
   ],
   "source": [
    "main_df.info()\n",
    "main_df.describe()"
   ]
  }
 ],
 "metadata": {
  "kernelspec": {
   "display_name": "Python 3",
   "language": "python",
   "name": "python3"
  },
  "language_info": {
   "codemirror_mode": {
    "name": "ipython",
    "version": 3
   },
   "file_extension": ".py",
   "mimetype": "text/x-python",
   "name": "python",
   "nbconvert_exporter": "python",
   "pygments_lexer": "ipython3",
   "version": "3.11.5"
  },
  "orig_nbformat": 4
 },
 "nbformat": 4,
 "nbformat_minor": 2
}
